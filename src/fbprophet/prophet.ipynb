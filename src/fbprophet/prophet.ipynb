{
  "nbformat": 4,
  "nbformat_minor": 0,
  "metadata": {
    "colab": {
      "name": "Untitled4.ipynb",
      "provenance": [],
      "collapsed_sections": []
    },
    "kernelspec": {
      "name": "python3",
      "display_name": "Python 3"
    },
    "language_info": {
      "name": "python"
    }
  },
  "cells": [
    {
      "cell_type": "code",
      "metadata": {
        "colab": {
          "base_uri": "https://localhost:8080/"
        },
        "id": "H1ok8ZUHo9wN",
        "outputId": "88b0ffc9-d730-4cfc-8fde-8fe082d90bc7"
      },
      "source": [
        "!pip install fbprophet"
      ],
      "execution_count": 41,
      "outputs": [
        {
          "output_type": "stream",
          "text": [
            "Requirement already satisfied: fbprophet in /usr/local/lib/python3.7/dist-packages (0.7.1)\n",
            "Requirement already satisfied: Cython>=0.22 in /usr/local/lib/python3.7/dist-packages (from fbprophet) (0.29.22)\n",
            "Requirement already satisfied: cmdstanpy==0.9.5 in /usr/local/lib/python3.7/dist-packages (from fbprophet) (0.9.5)\n",
            "Requirement already satisfied: pystan>=2.14 in /usr/local/lib/python3.7/dist-packages (from fbprophet) (2.19.1.1)\n",
            "Requirement already satisfied: numpy>=1.15.4 in /usr/local/lib/python3.7/dist-packages (from fbprophet) (1.19.5)\n",
            "Requirement already satisfied: pandas>=1.0.4 in /usr/local/lib/python3.7/dist-packages (from fbprophet) (1.1.5)\n",
            "Requirement already satisfied: matplotlib>=2.0.0 in /usr/local/lib/python3.7/dist-packages (from fbprophet) (3.2.2)\n",
            "Requirement already satisfied: LunarCalendar>=0.0.9 in /usr/local/lib/python3.7/dist-packages (from fbprophet) (0.0.9)\n",
            "Requirement already satisfied: convertdate>=2.1.2 in /usr/local/lib/python3.7/dist-packages (from fbprophet) (2.3.2)\n",
            "Requirement already satisfied: holidays>=0.10.2 in /usr/local/lib/python3.7/dist-packages (from fbprophet) (0.10.5.2)\n",
            "Requirement already satisfied: setuptools-git>=1.2 in /usr/local/lib/python3.7/dist-packages (from fbprophet) (1.2)\n",
            "Requirement already satisfied: python-dateutil>=2.8.0 in /usr/local/lib/python3.7/dist-packages (from fbprophet) (2.8.1)\n",
            "Requirement already satisfied: tqdm>=4.36.1 in /usr/local/lib/python3.7/dist-packages (from fbprophet) (4.41.1)\n",
            "Requirement already satisfied: pytz>=2017.2 in /usr/local/lib/python3.7/dist-packages (from pandas>=1.0.4->fbprophet) (2018.9)\n",
            "Requirement already satisfied: cycler>=0.10 in /usr/local/lib/python3.7/dist-packages (from matplotlib>=2.0.0->fbprophet) (0.10.0)\n",
            "Requirement already satisfied: pyparsing!=2.0.4,!=2.1.2,!=2.1.6,>=2.0.1 in /usr/local/lib/python3.7/dist-packages (from matplotlib>=2.0.0->fbprophet) (2.4.7)\n",
            "Requirement already satisfied: kiwisolver>=1.0.1 in /usr/local/lib/python3.7/dist-packages (from matplotlib>=2.0.0->fbprophet) (1.3.1)\n",
            "Requirement already satisfied: ephem>=3.7.5.3 in /usr/local/lib/python3.7/dist-packages (from LunarCalendar>=0.0.9->fbprophet) (3.7.7.1)\n",
            "Requirement already satisfied: pymeeus<=1,>=0.3.13 in /usr/local/lib/python3.7/dist-packages (from convertdate>=2.1.2->fbprophet) (0.5.11)\n",
            "Requirement already satisfied: six in /usr/local/lib/python3.7/dist-packages (from holidays>=0.10.2->fbprophet) (1.15.0)\n",
            "Requirement already satisfied: korean-lunar-calendar in /usr/local/lib/python3.7/dist-packages (from holidays>=0.10.2->fbprophet) (0.2.1)\n",
            "Requirement already satisfied: hijri-converter in /usr/local/lib/python3.7/dist-packages (from holidays>=0.10.2->fbprophet) (2.1.1)\n"
          ],
          "name": "stdout"
        }
      ]
    },
    {
      "cell_type": "code",
      "metadata": {
        "id": "idMV8PwypB2M"
      },
      "source": [
        "import pandas as pd\n",
        "from fbprophet import Prophet\n",
        "from matplotlib import pyplot as plt\n",
        "%matplotlib inline"
      ],
      "execution_count": 42,
      "outputs": []
    },
    {
      "cell_type": "code",
      "metadata": {
        "id": "8R_ZiR-ZpUqh"
      },
      "source": [
        "df = pd.read_csv('data_new.csv')"
      ],
      "execution_count": 43,
      "outputs": []
    },
    {
      "cell_type": "code",
      "metadata": {
        "colab": {
          "base_uri": "https://localhost:8080/"
        },
        "id": "2KpOhugMpfCn",
        "outputId": "95961ec4-e072-487e-bba5-077fb8510d76"
      },
      "source": [
        "df.info()"
      ],
      "execution_count": 44,
      "outputs": [
        {
          "output_type": "stream",
          "text": [
            "<class 'pandas.core.frame.DataFrame'>\n",
            "RangeIndex: 416 entries, 0 to 415\n",
            "Data columns (total 29 columns):\n",
            " #   Column                                              Non-Null Count  Dtype  \n",
            "---  ------                                              --------------  -----  \n",
            " 0   Unnamed: 0                                          416 non-null    object \n",
            " 1   date                                                416 non-null    object \n",
            " 2   total_cases                                         416 non-null    float64\n",
            " 3   new_cases                                           416 non-null    float64\n",
            " 4   weekly_new_cases_average                            416 non-null    float64\n",
            " 5   new_cases_yesterday                                 416 non-null    float64\n",
            " 6   new_deaths                                          416 non-null    float64\n",
            " 7   weeky_new_deaths_average                            416 non-null    float64\n",
            " 8   new_deaths_yesterday                                416 non-null    float64\n",
            " 9   new_tests                                           416 non-null    float64\n",
            " 10  weekly_new_tests_average                            416 non-null    float64\n",
            " 11  new_tests_yesterday                                 416 non-null    float64\n",
            " 12  positive_rate                                       416 non-null    float64\n",
            " 13  total_vaccinations                                  416 non-null    float64\n",
            " 14  total_vaccinations_yesterday                        416 non-null    float64\n",
            " 15  people_vaccinated                                   416 non-null    float64\n",
            " 16  people_vaccinated_yesterday                         416 non-null    float64\n",
            " 17  people_fully_vaccinated                             416 non-null    float64\n",
            " 18  people_fully_vaccinated_yesterday                   416 non-null    float64\n",
            " 19  stringency_index                                    416 non-null    float64\n",
            " 20  driving                                             416 non-null    float64\n",
            " 21  transit                                             416 non-null    float64\n",
            " 22  walking                                             416 non-null    float64\n",
            " 23  retail_and_recreation_percent_change_from_baseline  416 non-null    float64\n",
            " 24  grocery_and_pharmacy_percent_change_from_baseline   416 non-null    float64\n",
            " 25  parks_percent_change_from_baseline                  416 non-null    float64\n",
            " 26  transit_stations_percent_change_from_baseline       416 non-null    float64\n",
            " 27  workplaces_percent_change_from_baseline             416 non-null    float64\n",
            " 28  residential_percent_change_from_baseline            416 non-null    float64\n",
            "dtypes: float64(27), object(2)\n",
            "memory usage: 94.4+ KB\n"
          ],
          "name": "stdout"
        }
      ]
    },
    {
      "cell_type": "code",
      "metadata": {
        "id": "9DvTpPSHpgHg"
      },
      "source": [
        "df['ds'] = pd.to_datetime(df['date'])\n",
        "df['y'] = df['new_cases']\n",
        "df = df[['ds','y']]\n",
        "train = df[:-15]\n",
        "test = df[-15:]\n",
        "# test = test['ds']\n",
        "\n"
      ],
      "execution_count": 45,
      "outputs": []
    },
    {
      "cell_type": "code",
      "metadata": {
        "id": "e89d7kWEqHT7"
      },
      "source": [
        "model = Prophet(daily_seasonality=True)"
      ],
      "execution_count": 46,
      "outputs": []
    },
    {
      "cell_type": "code",
      "metadata": {
        "colab": {
          "base_uri": "https://localhost:8080/"
        },
        "id": "6D5u2lPtqVOX",
        "outputId": "3cacf62b-53a8-4ee4-c4a4-6a9de87e4c7b"
      },
      "source": [
        "model.fit(train)"
      ],
      "execution_count": 47,
      "outputs": [
        {
          "output_type": "stream",
          "text": [
            "INFO:fbprophet:Disabling yearly seasonality. Run prophet with yearly_seasonality=True to override this.\n"
          ],
          "name": "stderr"
        },
        {
          "output_type": "execute_result",
          "data": {
            "text/plain": [
              "<fbprophet.forecaster.Prophet at 0x7f33b865cbd0>"
            ]
          },
          "metadata": {
            "tags": []
          },
          "execution_count": 47
        }
      ]
    },
    {
      "cell_type": "code",
      "metadata": {
        "id": "eDn8FQaoqYLQ"
      },
      "source": [
        "forecast = model.predict(test)"
      ],
      "execution_count": 48,
      "outputs": []
    },
    {
      "cell_type": "code",
      "metadata": {
        "colab": {
          "base_uri": "https://localhost:8080/",
          "height": 789
        },
        "id": "9ZmJOdfiraTA",
        "outputId": "742f1351-6893-4986-c74b-9768c965a701"
      },
      "source": [
        "forecast"
      ],
      "execution_count": 49,
      "outputs": [
        {
          "output_type": "execute_result",
          "data": {
            "text/html": [
              "<div>\n",
              "<style scoped>\n",
              "    .dataframe tbody tr th:only-of-type {\n",
              "        vertical-align: middle;\n",
              "    }\n",
              "\n",
              "    .dataframe tbody tr th {\n",
              "        vertical-align: top;\n",
              "    }\n",
              "\n",
              "    .dataframe thead th {\n",
              "        text-align: right;\n",
              "    }\n",
              "</style>\n",
              "<table border=\"1\" class=\"dataframe\">\n",
              "  <thead>\n",
              "    <tr style=\"text-align: right;\">\n",
              "      <th></th>\n",
              "      <th>ds</th>\n",
              "      <th>trend</th>\n",
              "      <th>yhat_lower</th>\n",
              "      <th>yhat_upper</th>\n",
              "      <th>trend_lower</th>\n",
              "      <th>trend_upper</th>\n",
              "      <th>additive_terms</th>\n",
              "      <th>additive_terms_lower</th>\n",
              "      <th>additive_terms_upper</th>\n",
              "      <th>daily</th>\n",
              "      <th>daily_lower</th>\n",
              "      <th>daily_upper</th>\n",
              "      <th>weekly</th>\n",
              "      <th>weekly_lower</th>\n",
              "      <th>weekly_upper</th>\n",
              "      <th>multiplicative_terms</th>\n",
              "      <th>multiplicative_terms_lower</th>\n",
              "      <th>multiplicative_terms_upper</th>\n",
              "      <th>yhat</th>\n",
              "    </tr>\n",
              "  </thead>\n",
              "  <tbody>\n",
              "    <tr>\n",
              "      <th>0</th>\n",
              "      <td>2021-04-06</td>\n",
              "      <td>11296.678958</td>\n",
              "      <td>-12196.033843</td>\n",
              "      <td>46541.813296</td>\n",
              "      <td>11296.678958</td>\n",
              "      <td>11296.678958</td>\n",
              "      <td>6891.797851</td>\n",
              "      <td>6891.797851</td>\n",
              "      <td>6891.797851</td>\n",
              "      <td>8382.695192</td>\n",
              "      <td>8382.695192</td>\n",
              "      <td>8382.695192</td>\n",
              "      <td>-1490.897341</td>\n",
              "      <td>-1490.897341</td>\n",
              "      <td>-1490.897341</td>\n",
              "      <td>0.0</td>\n",
              "      <td>0.0</td>\n",
              "      <td>0.0</td>\n",
              "      <td>18188.476809</td>\n",
              "    </tr>\n",
              "    <tr>\n",
              "      <th>1</th>\n",
              "      <td>2021-04-07</td>\n",
              "      <td>9340.694648</td>\n",
              "      <td>-9725.949041</td>\n",
              "      <td>53358.602265</td>\n",
              "      <td>9340.694648</td>\n",
              "      <td>9340.694648</td>\n",
              "      <td>11749.321428</td>\n",
              "      <td>11749.321428</td>\n",
              "      <td>11749.321428</td>\n",
              "      <td>8382.695192</td>\n",
              "      <td>8382.695192</td>\n",
              "      <td>8382.695192</td>\n",
              "      <td>3366.626236</td>\n",
              "      <td>3366.626236</td>\n",
              "      <td>3366.626236</td>\n",
              "      <td>0.0</td>\n",
              "      <td>0.0</td>\n",
              "      <td>0.0</td>\n",
              "      <td>21090.016076</td>\n",
              "    </tr>\n",
              "    <tr>\n",
              "      <th>2</th>\n",
              "      <td>2021-04-08</td>\n",
              "      <td>7384.710338</td>\n",
              "      <td>-7790.668961</td>\n",
              "      <td>50993.632048</td>\n",
              "      <td>7384.710338</td>\n",
              "      <td>7384.710338</td>\n",
              "      <td>14632.376416</td>\n",
              "      <td>14632.376416</td>\n",
              "      <td>14632.376416</td>\n",
              "      <td>8382.695192</td>\n",
              "      <td>8382.695192</td>\n",
              "      <td>8382.695192</td>\n",
              "      <td>6249.681224</td>\n",
              "      <td>6249.681224</td>\n",
              "      <td>6249.681224</td>\n",
              "      <td>0.0</td>\n",
              "      <td>0.0</td>\n",
              "      <td>0.0</td>\n",
              "      <td>22017.086754</td>\n",
              "    </tr>\n",
              "    <tr>\n",
              "      <th>3</th>\n",
              "      <td>2021-04-09</td>\n",
              "      <td>5428.726028</td>\n",
              "      <td>-11701.946894</td>\n",
              "      <td>50749.073974</td>\n",
              "      <td>5392.273185</td>\n",
              "      <td>5428.726028</td>\n",
              "      <td>16208.193526</td>\n",
              "      <td>16208.193526</td>\n",
              "      <td>16208.193526</td>\n",
              "      <td>8382.695192</td>\n",
              "      <td>8382.695192</td>\n",
              "      <td>8382.695192</td>\n",
              "      <td>7825.498334</td>\n",
              "      <td>7825.498334</td>\n",
              "      <td>7825.498334</td>\n",
              "      <td>0.0</td>\n",
              "      <td>0.0</td>\n",
              "      <td>0.0</td>\n",
              "      <td>21636.919555</td>\n",
              "    </tr>\n",
              "    <tr>\n",
              "      <th>4</th>\n",
              "      <td>2021-04-10</td>\n",
              "      <td>3472.741719</td>\n",
              "      <td>-16438.644350</td>\n",
              "      <td>43663.539203</td>\n",
              "      <td>3356.507806</td>\n",
              "      <td>3500.688814</td>\n",
              "      <td>10908.186149</td>\n",
              "      <td>10908.186149</td>\n",
              "      <td>10908.186149</td>\n",
              "      <td>8382.695192</td>\n",
              "      <td>8382.695192</td>\n",
              "      <td>8382.695192</td>\n",
              "      <td>2525.490957</td>\n",
              "      <td>2525.490957</td>\n",
              "      <td>2525.490957</td>\n",
              "      <td>0.0</td>\n",
              "      <td>0.0</td>\n",
              "      <td>0.0</td>\n",
              "      <td>14380.927867</td>\n",
              "    </tr>\n",
              "    <tr>\n",
              "      <th>5</th>\n",
              "      <td>2021-04-11</td>\n",
              "      <td>1516.757409</td>\n",
              "      <td>-29622.341252</td>\n",
              "      <td>29924.954159</td>\n",
              "      <td>1257.264863</td>\n",
              "      <td>1655.721802</td>\n",
              "      <td>-2974.958181</td>\n",
              "      <td>-2974.958181</td>\n",
              "      <td>-2974.958181</td>\n",
              "      <td>8382.695192</td>\n",
              "      <td>8382.695192</td>\n",
              "      <td>8382.695192</td>\n",
              "      <td>-11357.653373</td>\n",
              "      <td>-11357.653373</td>\n",
              "      <td>-11357.653373</td>\n",
              "      <td>0.0</td>\n",
              "      <td>0.0</td>\n",
              "      <td>0.0</td>\n",
              "      <td>-1458.200772</td>\n",
              "    </tr>\n",
              "    <tr>\n",
              "      <th>6</th>\n",
              "      <td>2021-04-12</td>\n",
              "      <td>-439.226901</td>\n",
              "      <td>-30066.283863</td>\n",
              "      <td>32063.925617</td>\n",
              "      <td>-831.062404</td>\n",
              "      <td>-168.262078</td>\n",
              "      <td>1263.949156</td>\n",
              "      <td>1263.949156</td>\n",
              "      <td>1263.949156</td>\n",
              "      <td>8382.695192</td>\n",
              "      <td>8382.695192</td>\n",
              "      <td>8382.695192</td>\n",
              "      <td>-7118.746036</td>\n",
              "      <td>-7118.746036</td>\n",
              "      <td>-7118.746036</td>\n",
              "      <td>0.0</td>\n",
              "      <td>0.0</td>\n",
              "      <td>0.0</td>\n",
              "      <td>824.722255</td>\n",
              "    </tr>\n",
              "    <tr>\n",
              "      <th>7</th>\n",
              "      <td>2021-04-13</td>\n",
              "      <td>-2395.211211</td>\n",
              "      <td>-26882.883706</td>\n",
              "      <td>35000.508487</td>\n",
              "      <td>-2972.474052</td>\n",
              "      <td>-1925.924417</td>\n",
              "      <td>6891.797851</td>\n",
              "      <td>6891.797851</td>\n",
              "      <td>6891.797851</td>\n",
              "      <td>8382.695192</td>\n",
              "      <td>8382.695192</td>\n",
              "      <td>8382.695192</td>\n",
              "      <td>-1490.897341</td>\n",
              "      <td>-1490.897341</td>\n",
              "      <td>-1490.897341</td>\n",
              "      <td>0.0</td>\n",
              "      <td>0.0</td>\n",
              "      <td>0.0</td>\n",
              "      <td>4496.586640</td>\n",
              "    </tr>\n",
              "    <tr>\n",
              "      <th>8</th>\n",
              "      <td>2021-04-14</td>\n",
              "      <td>-4351.195521</td>\n",
              "      <td>-23645.616757</td>\n",
              "      <td>39255.881457</td>\n",
              "      <td>-5138.981607</td>\n",
              "      <td>-3755.783472</td>\n",
              "      <td>11749.321428</td>\n",
              "      <td>11749.321428</td>\n",
              "      <td>11749.321428</td>\n",
              "      <td>8382.695192</td>\n",
              "      <td>8382.695192</td>\n",
              "      <td>8382.695192</td>\n",
              "      <td>3366.626236</td>\n",
              "      <td>3366.626236</td>\n",
              "      <td>3366.626236</td>\n",
              "      <td>0.0</td>\n",
              "      <td>0.0</td>\n",
              "      <td>0.0</td>\n",
              "      <td>7398.125907</td>\n",
              "    </tr>\n",
              "    <tr>\n",
              "      <th>9</th>\n",
              "      <td>2021-04-15</td>\n",
              "      <td>-6307.179831</td>\n",
              "      <td>-24678.646920</td>\n",
              "      <td>36696.095464</td>\n",
              "      <td>-7274.466269</td>\n",
              "      <td>-5539.211886</td>\n",
              "      <td>14632.376416</td>\n",
              "      <td>14632.376416</td>\n",
              "      <td>14632.376416</td>\n",
              "      <td>8382.695192</td>\n",
              "      <td>8382.695192</td>\n",
              "      <td>8382.695192</td>\n",
              "      <td>6249.681224</td>\n",
              "      <td>6249.681224</td>\n",
              "      <td>6249.681224</td>\n",
              "      <td>0.0</td>\n",
              "      <td>0.0</td>\n",
              "      <td>0.0</td>\n",
              "      <td>8325.196586</td>\n",
              "    </tr>\n",
              "    <tr>\n",
              "      <th>10</th>\n",
              "      <td>2021-04-16</td>\n",
              "      <td>-8263.164140</td>\n",
              "      <td>-21837.577226</td>\n",
              "      <td>35809.136127</td>\n",
              "      <td>-9479.458500</td>\n",
              "      <td>-7213.710753</td>\n",
              "      <td>16208.193526</td>\n",
              "      <td>16208.193526</td>\n",
              "      <td>16208.193526</td>\n",
              "      <td>8382.695192</td>\n",
              "      <td>8382.695192</td>\n",
              "      <td>8382.695192</td>\n",
              "      <td>7825.498334</td>\n",
              "      <td>7825.498334</td>\n",
              "      <td>7825.498334</td>\n",
              "      <td>0.0</td>\n",
              "      <td>0.0</td>\n",
              "      <td>0.0</td>\n",
              "      <td>7945.029386</td>\n",
              "    </tr>\n",
              "    <tr>\n",
              "      <th>11</th>\n",
              "      <td>2021-04-17</td>\n",
              "      <td>-10219.148450</td>\n",
              "      <td>-30642.341365</td>\n",
              "      <td>29906.805506</td>\n",
              "      <td>-11676.926804</td>\n",
              "      <td>-9011.173748</td>\n",
              "      <td>10908.186149</td>\n",
              "      <td>10908.186149</td>\n",
              "      <td>10908.186149</td>\n",
              "      <td>8382.695192</td>\n",
              "      <td>8382.695192</td>\n",
              "      <td>8382.695192</td>\n",
              "      <td>2525.490957</td>\n",
              "      <td>2525.490957</td>\n",
              "      <td>2525.490957</td>\n",
              "      <td>0.0</td>\n",
              "      <td>0.0</td>\n",
              "      <td>0.0</td>\n",
              "      <td>689.037699</td>\n",
              "    </tr>\n",
              "    <tr>\n",
              "      <th>12</th>\n",
              "      <td>2021-04-18</td>\n",
              "      <td>-12175.132760</td>\n",
              "      <td>-45435.666406</td>\n",
              "      <td>13442.215175</td>\n",
              "      <td>-13987.338731</td>\n",
              "      <td>-10650.556981</td>\n",
              "      <td>-2974.958181</td>\n",
              "      <td>-2974.958181</td>\n",
              "      <td>-2974.958181</td>\n",
              "      <td>8382.695192</td>\n",
              "      <td>8382.695192</td>\n",
              "      <td>8382.695192</td>\n",
              "      <td>-11357.653373</td>\n",
              "      <td>-11357.653373</td>\n",
              "      <td>-11357.653373</td>\n",
              "      <td>0.0</td>\n",
              "      <td>0.0</td>\n",
              "      <td>0.0</td>\n",
              "      <td>-15150.090941</td>\n",
              "    </tr>\n",
              "    <tr>\n",
              "      <th>13</th>\n",
              "      <td>2021-04-19</td>\n",
              "      <td>-14131.117070</td>\n",
              "      <td>-45394.287474</td>\n",
              "      <td>16278.230005</td>\n",
              "      <td>-16250.352462</td>\n",
              "      <td>-12498.597909</td>\n",
              "      <td>1263.949156</td>\n",
              "      <td>1263.949156</td>\n",
              "      <td>1263.949156</td>\n",
              "      <td>8382.695192</td>\n",
              "      <td>8382.695192</td>\n",
              "      <td>8382.695192</td>\n",
              "      <td>-7118.746036</td>\n",
              "      <td>-7118.746036</td>\n",
              "      <td>-7118.746036</td>\n",
              "      <td>0.0</td>\n",
              "      <td>0.0</td>\n",
              "      <td>0.0</td>\n",
              "      <td>-12867.167913</td>\n",
              "    </tr>\n",
              "    <tr>\n",
              "      <th>14</th>\n",
              "      <td>2021-04-20</td>\n",
              "      <td>-16087.101380</td>\n",
              "      <td>-40512.526544</td>\n",
              "      <td>20467.856619</td>\n",
              "      <td>-18463.131143</td>\n",
              "      <td>-14188.133844</td>\n",
              "      <td>6891.797851</td>\n",
              "      <td>6891.797851</td>\n",
              "      <td>6891.797851</td>\n",
              "      <td>8382.695192</td>\n",
              "      <td>8382.695192</td>\n",
              "      <td>8382.695192</td>\n",
              "      <td>-1490.897341</td>\n",
              "      <td>-1490.897341</td>\n",
              "      <td>-1490.897341</td>\n",
              "      <td>0.0</td>\n",
              "      <td>0.0</td>\n",
              "      <td>0.0</td>\n",
              "      <td>-9195.303528</td>\n",
              "    </tr>\n",
              "  </tbody>\n",
              "</table>\n",
              "</div>"
            ],
            "text/plain": [
              "           ds         trend  ...  multiplicative_terms_upper          yhat\n",
              "0  2021-04-06  11296.678958  ...                         0.0  18188.476809\n",
              "1  2021-04-07   9340.694648  ...                         0.0  21090.016076\n",
              "2  2021-04-08   7384.710338  ...                         0.0  22017.086754\n",
              "3  2021-04-09   5428.726028  ...                         0.0  21636.919555\n",
              "4  2021-04-10   3472.741719  ...                         0.0  14380.927867\n",
              "5  2021-04-11   1516.757409  ...                         0.0  -1458.200772\n",
              "6  2021-04-12   -439.226901  ...                         0.0    824.722255\n",
              "7  2021-04-13  -2395.211211  ...                         0.0   4496.586640\n",
              "8  2021-04-14  -4351.195521  ...                         0.0   7398.125907\n",
              "9  2021-04-15  -6307.179831  ...                         0.0   8325.196586\n",
              "10 2021-04-16  -8263.164140  ...                         0.0   7945.029386\n",
              "11 2021-04-17 -10219.148450  ...                         0.0    689.037699\n",
              "12 2021-04-18 -12175.132760  ...                         0.0 -15150.090941\n",
              "13 2021-04-19 -14131.117070  ...                         0.0 -12867.167913\n",
              "14 2021-04-20 -16087.101380  ...                         0.0  -9195.303528\n",
              "\n",
              "[15 rows x 19 columns]"
            ]
          },
          "metadata": {
            "tags": []
          },
          "execution_count": 49
        }
      ]
    },
    {
      "cell_type": "code",
      "metadata": {
        "colab": {
          "base_uri": "https://localhost:8080/",
          "height": 865
        },
        "id": "7zKb18Niqv--",
        "outputId": "bdfa66ca-787e-4f80-9721-28f67b297c90"
      },
      "source": [
        "model.plot(forecast)"
      ],
      "execution_count": 50,
      "outputs": [
        {
          "output_type": "execute_result",
          "data": {
            "image/png": "[encoded data removed]",
            "text/plain": [
              "<Figure size 720x432 with 1 Axes>"
            ]
          },
          "metadata": {
            "tags": []
          },
          "execution_count": 50
        },
        {
          "output_type": "display_data",
          "data": {
            "image/png": "[encoded data removed]",
            "text/plain": [
              "<Figure size 720x432 with 1 Axes>"
            ]
          },
          "metadata": {
            "tags": []
          }
        }
      ]
    },
    {
      "cell_type": "code",
      "metadata": {
        "colab": {
          "base_uri": "https://localhost:8080/",
          "height": 313
        },
        "id": "5pTa5Gjaq1gT",
        "outputId": "23858937-6957-42b8-dcbd-fda2817b7274"
      },
      "source": [
        "plt.plot(test['ds'],test['y'])\n",
        "plt.plot(forecast['ds'],forecast['yhat'])\n",
        "plt.xticks(rotation='vertical')\n",
        "plt.show()"
      ],
      "execution_count": 54,
      "outputs": [
        {
          "output_type": "display_data",
          "data": {
            "image/png": "[encoded data removed]",
            "text/plain": [
              "<Figure size 432x288 with 1 Axes>"
            ]
          },
          "metadata": {
            "tags": [],
            "needs_background": "light"
          }
        }
      ]
    },
    {
      "cell_type": "code",
      "metadata": {
        "id": "G-OQsJ8NJcaK"
      },
      "source": [
        ""
      ],
      "execution_count": null,
      "outputs": []
    }
  ]
}