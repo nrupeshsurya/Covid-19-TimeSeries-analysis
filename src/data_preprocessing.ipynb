{
 "metadata": {
  "language_info": {
   "codemirror_mode": {
    "name": "ipython",
    "version": 3
   },
   "file_extension": ".py",
   "mimetype": "text/x-python",
   "name": "python",
   "nbconvert_exporter": "python",
   "pygments_lexer": "ipython3",
   "version": "3.8.5"
  },
  "orig_nbformat": 2,
  "kernelspec": {
   "name": "python3",
   "display_name": "Python 3.8.5 64-bit ('Env': venv)",
   "metadata": {
    "interpreter": {
     "hash": "4d3ed95284c33d964896989105016484160e7e48ea4141e346add510b235b1b0"
    }
   }
  }
 },
 "nbformat": 4,
 "nbformat_minor": 2,
 "cells": [
  {
   "cell_type": "code",
   "execution_count": 267,
   "metadata": {},
   "outputs": [],
   "source": [
    "import pandas as pd"
   ]
  },
  {
   "cell_type": "code",
   "execution_count": 268,
   "metadata": {},
   "outputs": [],
   "source": [
    "google_mobility_2020 = pd.read_csv('../data/google_mobility/2020_US_Region_Mobility_Report.csv')\n",
    "google_mobility_2021 = pd.read_csv('../data//google_mobility/2021_US_Region_Mobility_Report.csv')\n",
    "google_mobility_2020.drop(['country_region_code','country_region','sub_region_1','sub_region_2','metro_area','iso_3166_2_code','census_fips_code'],axis=1,inplace=True)\n",
    "google_mobility_2021.drop(['country_region_code','country_region','sub_region_1','sub_region_2','metro_area','iso_3166_2_code','census_fips_code'],axis=1,inplace=True)"
   ]
  },
  {
   "cell_type": "code",
   "execution_count": 269,
   "metadata": {},
   "outputs": [],
   "source": [
    "region_list = ['ChIJCzYy5IS16lQRQrfeQ5K5Oxw']"
   ]
  },
  {
   "cell_type": "code",
   "execution_count": 270,
   "metadata": {},
   "outputs": [
    {
     "output_type": "stream",
     "name": "stderr",
     "text": [
      "<ipython-input-270-1bc4cc2355c4>:7: SettingWithCopyWarning: \nA value is trying to be set on a copy of a slice from a DataFrame.\nTry using .loc[row_indexer,col_indexer] = value instead\n\nSee the caveats in the documentation: https://pandas.pydata.org/pandas-docs/stable/user_guide/indexing.html#returning-a-view-versus-a-copy\n  df_t2['date'] = pd.to_datetime(df_t2['date'])\n/home/flamealchemist/projects/NYC/Env/lib/python3.8/site-packages/pandas/core/frame.py:4308: SettingWithCopyWarning: \nA value is trying to be set on a copy of a slice from a DataFrame\n\nSee the caveats in the documentation: https://pandas.pydata.org/pandas-docs/stable/user_guide/indexing.html#returning-a-view-versus-a-copy\n  return super().drop(\n"
     ]
    }
   ],
   "source": [
    "df_list = []\n",
    "for i in region_list:\n",
    "    df_t1 = google_mobility_2020.loc[google_mobility_2020['place_id']==i]\n",
    "    df_t2 = google_mobility_2021.loc[google_mobility_2021['place_id']==i]\n",
    "    df_t1 = df_t1[15:]\n",
    "    df_t1['date'] = pd.to_datetime(df_t1['date'])\n",
    "    df_t2['date'] = pd.to_datetime(df_t2['date'])\n",
    "    df_t1.drop(['place_id'],inplace=True,axis=1)\n",
    "    df_t2.drop(['place_id'],inplace=True,axis=1)\n",
    "    df_t1.set_index('date',inplace = True)\n",
    "    df_t2.set_index('date', inplace = True)\n",
    "    df_t = pd.concat([df_t1,df_t2],axis=0)\n",
    "    df_list.append(df_t)\n",
    "    # print(df_t.loc[df_t['date']=='2020-03-03'])\n"
   ]
  },
  {
   "cell_type": "code",
   "execution_count": 271,
   "metadata": {},
   "outputs": [],
   "source": [
    "mobility_data_google = pd.concat(df_list).groupby(level=0).mean()"
   ]
  },
  {
   "cell_type": "code",
   "execution_count": 272,
   "metadata": {},
   "outputs": [
    {
     "output_type": "execute_result",
     "data": {
      "text/plain": [
       "            retail_and_recreation_percent_change_from_baseline  \\\n",
       "date                                                             \n",
       "2021-04-16                                              -11.0    \n",
       "2021-04-17                                               -8.0    \n",
       "2021-04-18                                               -5.0    \n",
       "2021-04-19                                              -10.0    \n",
       "2021-04-20                                               -8.0    \n",
       "\n",
       "            grocery_and_pharmacy_percent_change_from_baseline  \\\n",
       "date                                                            \n",
       "2021-04-16                                               -6.0   \n",
       "2021-04-17                                               -2.0   \n",
       "2021-04-18                                               -2.0   \n",
       "2021-04-19                                               -3.0   \n",
       "2021-04-20                                               -1.0   \n",
       "\n",
       "            parks_percent_change_from_baseline  \\\n",
       "date                                             \n",
       "2021-04-16                                 8.0   \n",
       "2021-04-17                                35.0   \n",
       "2021-04-18                                38.0   \n",
       "2021-04-19                                14.0   \n",
       "2021-04-20                                21.0   \n",
       "\n",
       "            transit_stations_percent_change_from_baseline  \\\n",
       "date                                                        \n",
       "2021-04-16                                          -27.0   \n",
       "2021-04-17                                          -17.0   \n",
       "2021-04-18                                          -16.0   \n",
       "2021-04-19                                          -28.0   \n",
       "2021-04-20                                          -28.0   \n",
       "\n",
       "            workplaces_percent_change_from_baseline  \\\n",
       "date                                                  \n",
       "2021-04-16                                    -29.0   \n",
       "2021-04-17                                    -12.0   \n",
       "2021-04-18                                    -13.0   \n",
       "2021-04-19                                    -29.0   \n",
       "2021-04-20                                    -29.0   \n",
       "\n",
       "            residential_percent_change_from_baseline  \n",
       "date                                                  \n",
       "2021-04-16                                       8.0  \n",
       "2021-04-17                                       2.0  \n",
       "2021-04-18                                       2.0  \n",
       "2021-04-19                                       8.0  \n",
       "2021-04-20                                       8.0  "
      ],
      "text/html": "<div>\n<style scoped>\n    .dataframe tbody tr th:only-of-type {\n        vertical-align: middle;\n    }\n\n    .dataframe tbody tr th {\n        vertical-align: top;\n    }\n\n    .dataframe thead th {\n        text-align: right;\n    }\n</style>\n<table border=\"1\" class=\"dataframe\">\n  <thead>\n    <tr style=\"text-align: right;\">\n      <th></th>\n      <th>retail_and_recreation_percent_change_from_baseline</th>\n      <th>grocery_and_pharmacy_percent_change_from_baseline</th>\n      <th>parks_percent_change_from_baseline</th>\n      <th>transit_stations_percent_change_from_baseline</th>\n      <th>workplaces_percent_change_from_baseline</th>\n      <th>residential_percent_change_from_baseline</th>\n    </tr>\n    <tr>\n      <th>date</th>\n      <th></th>\n      <th></th>\n      <th></th>\n      <th></th>\n      <th></th>\n      <th></th>\n    </tr>\n  </thead>\n  <tbody>\n    <tr>\n      <th>2021-04-16</th>\n      <td>-11.0</td>\n      <td>-6.0</td>\n      <td>8.0</td>\n      <td>-27.0</td>\n      <td>-29.0</td>\n      <td>8.0</td>\n    </tr>\n    <tr>\n      <th>2021-04-17</th>\n      <td>-8.0</td>\n      <td>-2.0</td>\n      <td>35.0</td>\n      <td>-17.0</td>\n      <td>-12.0</td>\n      <td>2.0</td>\n    </tr>\n    <tr>\n      <th>2021-04-18</th>\n      <td>-5.0</td>\n      <td>-2.0</td>\n      <td>38.0</td>\n      <td>-16.0</td>\n      <td>-13.0</td>\n      <td>2.0</td>\n    </tr>\n    <tr>\n      <th>2021-04-19</th>\n      <td>-10.0</td>\n      <td>-3.0</td>\n      <td>14.0</td>\n      <td>-28.0</td>\n      <td>-29.0</td>\n      <td>8.0</td>\n    </tr>\n    <tr>\n      <th>2021-04-20</th>\n      <td>-8.0</td>\n      <td>-1.0</td>\n      <td>21.0</td>\n      <td>-28.0</td>\n      <td>-29.0</td>\n      <td>8.0</td>\n    </tr>\n  </tbody>\n</table>\n</div>"
     },
     "metadata": {},
     "execution_count": 272
    }
   ],
   "source": [
    "mobility_data_google = mobility_data_google[:-5]\n",
    "mobility_data_google.tail()"
   ]
  },
  {
   "cell_type": "code",
   "execution_count": 273,
   "metadata": {},
   "outputs": [
    {
     "output_type": "stream",
     "name": "stderr",
     "text": [
      "/home/flamealchemist/projects/NYC/Env/lib/python3.8/site-packages/IPython/core/interactiveshell.py:3165: DtypeWarning: Columns (3) have mixed types.Specify dtype option on import or set low_memory=False.\n  has_raised = await self.run_ast_nodes(code_ast.body, cell_name,\n"
     ]
    }
   ],
   "source": [
    "apple_mobility_data = pd.read_csv('../data/applemobilitytrends-2021-04-20.csv')"
   ]
  },
  {
   "cell_type": "code",
   "execution_count": 274,
   "metadata": {},
   "outputs": [
    {
     "output_type": "stream",
     "name": "stdout",
     "text": [
      "         geo_type     region transportation_type alternative_name sub-region  \\\n0  country/region    Albania             driving              NaN        NaN   \n1  country/region    Albania             walking              NaN        NaN   \n2  country/region  Argentina             driving              NaN        NaN   \n3  country/region  Argentina             walking              NaN        NaN   \n4  country/region  Australia             driving               AU        NaN   \n\n  country  2020-01-13  2020-01-14  2020-01-15  2020-01-16  ...  2021-04-11  \\\n0     NaN       100.0       95.30      101.43       97.20  ...      181.11   \n1     NaN       100.0      100.68       98.93       98.46  ...      156.97   \n2     NaN       100.0       97.07      102.45      111.21  ...       54.24   \n3     NaN       100.0       95.11      101.37      112.67  ...       43.43   \n4     NaN       100.0      102.98      104.21      108.63  ...      112.85   \n\n   2021-04-12  2021-04-13  2021-04-14  2021-04-15  2021-04-16  2021-04-17  \\\n0      134.52      121.12      113.90      108.87      118.82      137.63   \n1      155.61      128.57      143.03      145.42      143.71      153.22   \n2       67.02       68.35       69.81       71.46       79.26       81.24   \n3       63.50       64.89       67.36       66.05       70.13       68.50   \n4      117.10      120.98      124.67      131.33      128.89      106.49   \n\n   2021-04-18  2021-04-19  2021-04-20  \n0      141.20      116.15      114.33  \n1      140.68      149.68      142.30  \n2       52.83       60.19       63.25  \n3       40.28       56.19       58.81  \n4      106.19      109.87      113.70  \n\n[5 rows x 470 columns]\n"
     ]
    }
   ],
   "source": [
    "print(apple_mobility_data.head())"
   ]
  },
  {
   "cell_type": "code",
   "execution_count": 275,
   "metadata": {},
   "outputs": [],
   "source": [
    "apple_mobility_data = apple_mobility_data.loc[apple_mobility_data['geo_type']=='country/region']"
   ]
  },
  {
   "cell_type": "code",
   "execution_count": 276,
   "metadata": {},
   "outputs": [],
   "source": [
    "apple_mobility_data = apple_mobility_data.loc[apple_mobility_data['region']=='United States']"
   ]
  },
  {
   "cell_type": "code",
   "execution_count": 277,
   "metadata": {},
   "outputs": [],
   "source": [
    "apple_mobility_data.drop(['geo_type','region','alternative_name','sub-region','country','transportation_type'],axis=1,inplace=True)"
   ]
  },
  {
   "cell_type": "code",
   "execution_count": 278,
   "metadata": {},
   "outputs": [],
   "source": [
    "apple_mobility_data = apple_mobility_data.transpose()"
   ]
  },
  {
   "cell_type": "code",
   "execution_count": 279,
   "metadata": {},
   "outputs": [],
   "source": [
    "apple_mobility_data = apple_mobility_data.rename_axis('Dates').reset_index()"
   ]
  },
  {
   "cell_type": "code",
   "execution_count": 280,
   "metadata": {},
   "outputs": [
    {
     "output_type": "execute_result",
     "data": {
      "text/plain": [
       "        Dates     146     147     148\n",
       "0  2020-01-13  100.00  100.00  100.00\n",
       "1  2020-01-14  102.97   97.77   99.59\n",
       "2  2020-01-15  105.19   98.84  101.87\n",
       "3  2020-01-16  108.48   99.04  100.60\n",
       "4  2020-01-17  125.51  108.03  121.36"
      ],
      "text/html": "<div>\n<style scoped>\n    .dataframe tbody tr th:only-of-type {\n        vertical-align: middle;\n    }\n\n    .dataframe tbody tr th {\n        vertical-align: top;\n    }\n\n    .dataframe thead th {\n        text-align: right;\n    }\n</style>\n<table border=\"1\" class=\"dataframe\">\n  <thead>\n    <tr style=\"text-align: right;\">\n      <th></th>\n      <th>Dates</th>\n      <th>146</th>\n      <th>147</th>\n      <th>148</th>\n    </tr>\n  </thead>\n  <tbody>\n    <tr>\n      <th>0</th>\n      <td>2020-01-13</td>\n      <td>100.00</td>\n      <td>100.00</td>\n      <td>100.00</td>\n    </tr>\n    <tr>\n      <th>1</th>\n      <td>2020-01-14</td>\n      <td>102.97</td>\n      <td>97.77</td>\n      <td>99.59</td>\n    </tr>\n    <tr>\n      <th>2</th>\n      <td>2020-01-15</td>\n      <td>105.19</td>\n      <td>98.84</td>\n      <td>101.87</td>\n    </tr>\n    <tr>\n      <th>3</th>\n      <td>2020-01-16</td>\n      <td>108.48</td>\n      <td>99.04</td>\n      <td>100.60</td>\n    </tr>\n    <tr>\n      <th>4</th>\n      <td>2020-01-17</td>\n      <td>125.51</td>\n      <td>108.03</td>\n      <td>121.36</td>\n    </tr>\n  </tbody>\n</table>\n</div>"
     },
     "metadata": {},
     "execution_count": 280
    }
   ],
   "source": [
    "apple_mobility_data.head()"
   ]
  },
  {
   "cell_type": "code",
   "execution_count": 281,
   "metadata": {},
   "outputs": [],
   "source": [
    "apple_mobility_data.rename(columns = {146:\"driving\",147:\"transit\",148:\"walking\"},inplace = True)"
   ]
  },
  {
   "cell_type": "code",
   "execution_count": 282,
   "metadata": {},
   "outputs": [],
   "source": [
    "apple_mobility_data['Dates'] = pd.to_datetime(apple_mobility_data['Dates'])"
   ]
  },
  {
   "cell_type": "code",
   "execution_count": 283,
   "metadata": {},
   "outputs": [],
   "source": [
    "apple_mobility_data.set_index(\"Dates\",inplace=True)"
   ]
  },
  {
   "cell_type": "code",
   "execution_count": 284,
   "metadata": {},
   "outputs": [
    {
     "output_type": "stream",
     "name": "stdout",
     "text": [
      "            driving  transit  walking\nDates                                \n2020-01-13   100.00   100.00   100.00\n2020-01-14   102.97    97.77    99.59\n2020-01-15   105.19    98.84   101.87\n2020-01-16   108.48    99.04   100.60\n2020-01-17   125.51   108.03   121.36\n"
     ]
    }
   ],
   "source": [
    "print(apple_mobility_data.head())"
   ]
  },
  {
   "cell_type": "code",
   "execution_count": 285,
   "metadata": {},
   "outputs": [],
   "source": [
    "apple_mobility_data = apple_mobility_data.loc['2020-03-01':'2021-04-20']"
   ]
  },
  {
   "cell_type": "code",
   "execution_count": 286,
   "metadata": {},
   "outputs": [],
   "source": [
    "owid = pd.read_csv('../data/owid-covid-data.csv')"
   ]
  },
  {
   "cell_type": "code",
   "execution_count": 287,
   "metadata": {},
   "outputs": [],
   "source": [
    "owid = owid.iloc[:,0:21]"
   ]
  },
  {
   "cell_type": "code",
   "execution_count": 288,
   "metadata": {},
   "outputs": [],
   "source": [
    "owid['Dates'] = pd.to_datetime(owid['date'])"
   ]
  },
  {
   "cell_type": "code",
   "execution_count": 289,
   "metadata": {},
   "outputs": [],
   "source": [
    "owid.set_index(\"Dates\",inplace=True)"
   ]
  },
  {
   "cell_type": "code",
   "execution_count": 290,
   "metadata": {},
   "outputs": [],
   "source": [
    "# owid['Dates'] = pd.to_datetime(owid.index)"
   ]
  },
  {
   "cell_type": "code",
   "execution_count": 291,
   "metadata": {},
   "outputs": [
    {
     "output_type": "stream",
     "name": "stdout",
     "text": [
      "<class 'pandas.core.frame.DataFrame'>\nDatetimeIndex: 472 entries, 2020-03-01 to NaT\nData columns (total 21 columns):\n #   Column                                                Non-Null Count  Dtype  \n---  ------                                                --------------  -----  \n 0   date                                                  416 non-null    object \n 1   total_cases                                           416 non-null    float64\n 2   new_cases                                             416 non-null    float64\n 3   weekly_new_cases_average                              416 non-null    float64\n 4   new_cases_yesterday                                   416 non-null    float64\n 5   new_deaths                                            416 non-null    float64\n 6   weeky_new_deaths_average                              416 non-null    float64\n 7   new_deaths_yesterday                                  416 non-null    float64\n 8   new_tests                                             416 non-null    float64\n 9   weekly_new_tests_average                              416 non-null    float64\n 10  new_tests_yesterday                                   416 non-null    float64\n 11  positive_rate                                         416 non-null    float64\n 12  total_vaccinations                                    416 non-null    float64\n 13  total_vaccinations_yesterday                          416 non-null    float64\n 14  people_vaccinated                                     416 non-null    float64\n 15  people_vaccinated_yesterday                           416 non-null    float64\n 16  people_fully_vaccinated                               416 non-null    float64\n 17  people_fully_vaccinated_yesterday                     416 non-null    float64\n 18  population_not_staying_at_home                        378 non-null    float64\n 19  population_not_staying_at_home_previous_week_average  392 non-null    float64\n 20  stringency_index                                      416 non-null    float64\ndtypes: float64(20), object(1)\nmemory usage: 81.1+ KB\n"
     ]
    }
   ],
   "source": [
    "owid.info()"
   ]
  },
  {
   "cell_type": "code",
   "execution_count": 292,
   "metadata": {},
   "outputs": [],
   "source": [
    "owid.drop(['population_not_staying_at_home','population_not_staying_at_home_previous_week_average'],inplace=True,axis=1)"
   ]
  },
  {
   "cell_type": "code",
   "execution_count": 293,
   "metadata": {},
   "outputs": [],
   "source": [
    "owid.dropna(inplace=True)"
   ]
  },
  {
   "cell_type": "code",
   "execution_count": 294,
   "metadata": {},
   "outputs": [],
   "source": [
    "owid = owid.iloc[:,0:21]"
   ]
  },
  {
   "cell_type": "code",
   "execution_count": 295,
   "metadata": {},
   "outputs": [
    {
     "output_type": "stream",
     "name": "stdout",
     "text": [
      "<class 'pandas.core.frame.DataFrame'>\nDatetimeIndex: 416 entries, 2020-03-01 to 2021-04-20\nData columns (total 19 columns):\n #   Column                             Non-Null Count  Dtype  \n---  ------                             --------------  -----  \n 0   date                               416 non-null    object \n 1   total_cases                        416 non-null    float64\n 2   new_cases                          416 non-null    float64\n 3   weekly_new_cases_average           416 non-null    float64\n 4   new_cases_yesterday                416 non-null    float64\n 5   new_deaths                         416 non-null    float64\n 6   weeky_new_deaths_average           416 non-null    float64\n 7   new_deaths_yesterday               416 non-null    float64\n 8   new_tests                          416 non-null    float64\n 9   weekly_new_tests_average           416 non-null    float64\n 10  new_tests_yesterday                416 non-null    float64\n 11  positive_rate                      416 non-null    float64\n 12  total_vaccinations                 416 non-null    float64\n 13  total_vaccinations_yesterday       416 non-null    float64\n 14  people_vaccinated                  416 non-null    float64\n 15  people_vaccinated_yesterday        416 non-null    float64\n 16  people_fully_vaccinated            416 non-null    float64\n 17  people_fully_vaccinated_yesterday  416 non-null    float64\n 18  stringency_index                   416 non-null    float64\ndtypes: float64(18), object(1)\nmemory usage: 65.0+ KB\n"
     ]
    }
   ],
   "source": [
    "owid.info()"
   ]
  },
  {
   "cell_type": "code",
   "execution_count": 296,
   "metadata": {},
   "outputs": [
    {
     "output_type": "stream",
     "name": "stdout",
     "text": [
      "<class 'pandas.core.frame.DataFrame'>\nDatetimeIndex: 416 entries, 2020-03-01 to 2021-04-20\nData columns (total 6 columns):\n #   Column                                              Non-Null Count  Dtype  \n---  ------                                              --------------  -----  \n 0   retail_and_recreation_percent_change_from_baseline  416 non-null    float64\n 1   grocery_and_pharmacy_percent_change_from_baseline   416 non-null    float64\n 2   parks_percent_change_from_baseline                  416 non-null    float64\n 3   transit_stations_percent_change_from_baseline       416 non-null    float64\n 4   workplaces_percent_change_from_baseline             416 non-null    float64\n 5   residential_percent_change_from_baseline            416 non-null    float64\ndtypes: float64(6)\nmemory usage: 22.8 KB\nNone\n"
     ]
    }
   ],
   "source": [
    "print(mobility_data_google.info())"
   ]
  },
  {
   "cell_type": "code",
   "execution_count": 297,
   "metadata": {},
   "outputs": [
    {
     "output_type": "stream",
     "name": "stdout",
     "text": [
      "            retail_and_recreation_percent_change_from_baseline  \\\ndate                                                             \n2020-03-01                                               13.0    \n2020-03-02                                                7.0    \n2020-03-03                                               11.0    \n2020-03-04                                                8.0    \n2020-03-05                                                8.0    \n\n            grocery_and_pharmacy_percent_change_from_baseline  \\\ndate                                                            \n2020-03-01                                                9.0   \n2020-03-02                                                6.0   \n2020-03-03                                               10.0   \n2020-03-04                                                6.0   \n2020-03-05                                                7.0   \n\n            parks_percent_change_from_baseline  \\\ndate                                             \n2020-03-01                                18.0   \n2020-03-02                                10.0   \n2020-03-03                                20.0   \n2020-03-04                                17.0   \n2020-03-05                                21.0   \n\n            transit_stations_percent_change_from_baseline  \\\ndate                                                        \n2020-03-01                                            7.0   \n2020-03-02                                            2.0   \n2020-03-03                                            3.0   \n2020-03-04                                            2.0   \n2020-03-05                                            2.0   \n\n            workplaces_percent_change_from_baseline  \\\ndate                                                  \n2020-03-01                                      3.0   \n2020-03-02                                      3.0   \n2020-03-03                                      2.0   \n2020-03-04                                      3.0   \n2020-03-05                                      3.0   \n\n            residential_percent_change_from_baseline  \ndate                                                  \n2020-03-01                                      -1.0  \n2020-03-02                                      -1.0  \n2020-03-03                                      -1.0  \n2020-03-04                                      -1.0  \n2020-03-05                                      -1.0  \n"
     ]
    }
   ],
   "source": [
    "print(mobility_data_google.head())"
   ]
  },
  {
   "cell_type": "code",
   "execution_count": 298,
   "metadata": {},
   "outputs": [
    {
     "output_type": "stream",
     "name": "stdout",
     "text": [
      "<class 'pandas.core.frame.DataFrame'>\nDatetimeIndex: 416 entries, 2020-03-01 to 2021-04-20\nData columns (total 3 columns):\n #   Column   Non-Null Count  Dtype  \n---  ------   --------------  -----  \n 0   driving  413 non-null    float64\n 1   transit  413 non-null    float64\n 2   walking  413 non-null    float64\ndtypes: float64(3)\nmemory usage: 13.0 KB\nNone\n"
     ]
    }
   ],
   "source": [
    "print(apple_mobility_data.info())"
   ]
  },
  {
   "cell_type": "code",
   "execution_count": 299,
   "metadata": {},
   "outputs": [],
   "source": [
    "apple_mobility_data.fillna(method = 'ffill',inplace=True)"
   ]
  },
  {
   "cell_type": "code",
   "execution_count": 300,
   "metadata": {},
   "outputs": [
    {
     "output_type": "stream",
     "name": "stdout",
     "text": [
      "<class 'pandas.core.frame.DataFrame'>\nDatetimeIndex: 416 entries, 2020-03-01 to 2021-04-20\nData columns (total 3 columns):\n #   Column   Non-Null Count  Dtype  \n---  ------   --------------  -----  \n 0   driving  416 non-null    float64\n 1   transit  416 non-null    float64\n 2   walking  416 non-null    float64\ndtypes: float64(3)\nmemory usage: 13.0 KB\n"
     ]
    }
   ],
   "source": [
    "apple_mobility_data.info()"
   ]
  },
  {
   "cell_type": "code",
   "execution_count": 301,
   "metadata": {},
   "outputs": [],
   "source": [
    "mega_data = pd.concat([mobility_data_google,apple_mobility_data],axis=1)"
   ]
  },
  {
   "cell_type": "code",
   "execution_count": 302,
   "metadata": {},
   "outputs": [],
   "source": [
    "# mega_data.set_index(\"date\",inplace=True)"
   ]
  },
  {
   "cell_type": "code",
   "execution_count": 303,
   "metadata": {},
   "outputs": [],
   "source": [
    "# mega_data.fillna(method = 'ffill',inplace=True)"
   ]
  },
  {
   "cell_type": "code",
   "execution_count": 304,
   "metadata": {},
   "outputs": [],
   "source": [
    "# mega_data.dropna(inplace=True)"
   ]
  },
  {
   "cell_type": "code",
   "execution_count": 305,
   "metadata": {},
   "outputs": [
    {
     "output_type": "stream",
     "name": "stdout",
     "text": [
      "<class 'pandas.core.frame.DataFrame'>\nDatetimeIndex: 416 entries, 2020-03-01 to 2021-04-20\nData columns (total 9 columns):\n #   Column                                              Non-Null Count  Dtype  \n---  ------                                              --------------  -----  \n 0   retail_and_recreation_percent_change_from_baseline  416 non-null    float64\n 1   grocery_and_pharmacy_percent_change_from_baseline   416 non-null    float64\n 2   parks_percent_change_from_baseline                  416 non-null    float64\n 3   transit_stations_percent_change_from_baseline       416 non-null    float64\n 4   workplaces_percent_change_from_baseline             416 non-null    float64\n 5   residential_percent_change_from_baseline            416 non-null    float64\n 6   driving                                             416 non-null    float64\n 7   transit                                             416 non-null    float64\n 8   walking                                             416 non-null    float64\ndtypes: float64(9)\nmemory usage: 32.5 KB\nNone\n"
     ]
    }
   ],
   "source": [
    "print(mega_data.info())"
   ]
  },
  {
   "cell_type": "code",
   "execution_count": 306,
   "metadata": {},
   "outputs": [
    {
     "output_type": "execute_result",
     "data": {
      "text/plain": [
       "            retail_and_recreation_percent_change_from_baseline  \\\n",
       "2020-03-01                                               13.0    \n",
       "2020-03-02                                                7.0    \n",
       "2020-03-03                                               11.0    \n",
       "2020-03-04                                                8.0    \n",
       "2020-03-05                                                8.0    \n",
       "\n",
       "            grocery_and_pharmacy_percent_change_from_baseline  \\\n",
       "2020-03-01                                                9.0   \n",
       "2020-03-02                                                6.0   \n",
       "2020-03-03                                               10.0   \n",
       "2020-03-04                                                6.0   \n",
       "2020-03-05                                                7.0   \n",
       "\n",
       "            parks_percent_change_from_baseline  \\\n",
       "2020-03-01                                18.0   \n",
       "2020-03-02                                10.0   \n",
       "2020-03-03                                20.0   \n",
       "2020-03-04                                17.0   \n",
       "2020-03-05                                21.0   \n",
       "\n",
       "            transit_stations_percent_change_from_baseline  \\\n",
       "2020-03-01                                            7.0   \n",
       "2020-03-02                                            2.0   \n",
       "2020-03-03                                            3.0   \n",
       "2020-03-04                                            2.0   \n",
       "2020-03-05                                            2.0   \n",
       "\n",
       "            workplaces_percent_change_from_baseline  \\\n",
       "2020-03-01                                      3.0   \n",
       "2020-03-02                                      3.0   \n",
       "2020-03-03                                      2.0   \n",
       "2020-03-04                                      3.0   \n",
       "2020-03-05                                      3.0   \n",
       "\n",
       "            residential_percent_change_from_baseline  driving  transit  \\\n",
       "2020-03-01                                      -1.0   101.04    85.31   \n",
       "2020-03-02                                      -1.0   107.73    98.06   \n",
       "2020-03-03                                      -1.0   112.98   100.26   \n",
       "2020-03-04                                      -1.0   113.05   101.50   \n",
       "2020-03-05                                      -1.0   119.74   103.53   \n",
       "\n",
       "            walking  \n",
       "2020-03-01   102.29  \n",
       "2020-03-02    99.20  \n",
       "2020-03-03   104.76  \n",
       "2020-03-04   104.61  \n",
       "2020-03-05   111.67  "
      ],
      "text/html": "<div>\n<style scoped>\n    .dataframe tbody tr th:only-of-type {\n        vertical-align: middle;\n    }\n\n    .dataframe tbody tr th {\n        vertical-align: top;\n    }\n\n    .dataframe thead th {\n        text-align: right;\n    }\n</style>\n<table border=\"1\" class=\"dataframe\">\n  <thead>\n    <tr style=\"text-align: right;\">\n      <th></th>\n      <th>retail_and_recreation_percent_change_from_baseline</th>\n      <th>grocery_and_pharmacy_percent_change_from_baseline</th>\n      <th>parks_percent_change_from_baseline</th>\n      <th>transit_stations_percent_change_from_baseline</th>\n      <th>workplaces_percent_change_from_baseline</th>\n      <th>residential_percent_change_from_baseline</th>\n      <th>driving</th>\n      <th>transit</th>\n      <th>walking</th>\n    </tr>\n  </thead>\n  <tbody>\n    <tr>\n      <th>2020-03-01</th>\n      <td>13.0</td>\n      <td>9.0</td>\n      <td>18.0</td>\n      <td>7.0</td>\n      <td>3.0</td>\n      <td>-1.0</td>\n      <td>101.04</td>\n      <td>85.31</td>\n      <td>102.29</td>\n    </tr>\n    <tr>\n      <th>2020-03-02</th>\n      <td>7.0</td>\n      <td>6.0</td>\n      <td>10.0</td>\n      <td>2.0</td>\n      <td>3.0</td>\n      <td>-1.0</td>\n      <td>107.73</td>\n      <td>98.06</td>\n      <td>99.20</td>\n    </tr>\n    <tr>\n      <th>2020-03-03</th>\n      <td>11.0</td>\n      <td>10.0</td>\n      <td>20.0</td>\n      <td>3.0</td>\n      <td>2.0</td>\n      <td>-1.0</td>\n      <td>112.98</td>\n      <td>100.26</td>\n      <td>104.76</td>\n    </tr>\n    <tr>\n      <th>2020-03-04</th>\n      <td>8.0</td>\n      <td>6.0</td>\n      <td>17.0</td>\n      <td>2.0</td>\n      <td>3.0</td>\n      <td>-1.0</td>\n      <td>113.05</td>\n      <td>101.50</td>\n      <td>104.61</td>\n    </tr>\n    <tr>\n      <th>2020-03-05</th>\n      <td>8.0</td>\n      <td>7.0</td>\n      <td>21.0</td>\n      <td>2.0</td>\n      <td>3.0</td>\n      <td>-1.0</td>\n      <td>119.74</td>\n      <td>103.53</td>\n      <td>111.67</td>\n    </tr>\n  </tbody>\n</table>\n</div>"
     },
     "metadata": {},
     "execution_count": 306
    }
   ],
   "source": [
    "mega_data.head()"
   ]
  },
  {
   "cell_type": "code",
   "execution_count": 307,
   "metadata": {},
   "outputs": [
    {
     "output_type": "stream",
     "name": "stdout",
     "text": [
      "<class 'pandas.core.frame.DataFrame'>\nDatetimeIndex: 416 entries, 2020-03-01 to 2021-04-20\nData columns (total 9 columns):\n #   Column                                              Non-Null Count  Dtype  \n---  ------                                              --------------  -----  \n 0   retail_and_recreation_percent_change_from_baseline  416 non-null    float64\n 1   grocery_and_pharmacy_percent_change_from_baseline   416 non-null    float64\n 2   parks_percent_change_from_baseline                  416 non-null    float64\n 3   transit_stations_percent_change_from_baseline       416 non-null    float64\n 4   workplaces_percent_change_from_baseline             416 non-null    float64\n 5   residential_percent_change_from_baseline            416 non-null    float64\n 6   driving                                             416 non-null    float64\n 7   transit                                             416 non-null    float64\n 8   walking                                             416 non-null    float64\ndtypes: float64(9)\nmemory usage: 32.5 KB\n"
     ]
    }
   ],
   "source": [
    "mega_data.info()"
   ]
  },
  {
   "cell_type": "code",
   "execution_count": 308,
   "metadata": {},
   "outputs": [],
   "source": [
    "mega_data_2 = pd.concat([owid,apple_mobility_data,mobility_data_google],axis=1)"
   ]
  },
  {
   "cell_type": "code",
   "execution_count": 309,
   "metadata": {},
   "outputs": [
    {
     "output_type": "stream",
     "name": "stdout",
     "text": [
      "<class 'pandas.core.frame.DataFrame'>\nDatetimeIndex: 416 entries, 2020-03-01 to 2021-04-20\nData columns (total 28 columns):\n #   Column                                              Non-Null Count  Dtype  \n---  ------                                              --------------  -----  \n 0   date                                                416 non-null    object \n 1   total_cases                                         416 non-null    float64\n 2   new_cases                                           416 non-null    float64\n 3   weekly_new_cases_average                            416 non-null    float64\n 4   new_cases_yesterday                                 416 non-null    float64\n 5   new_deaths                                          416 non-null    float64\n 6   weeky_new_deaths_average                            416 non-null    float64\n 7   new_deaths_yesterday                                416 non-null    float64\n 8   new_tests                                           416 non-null    float64\n 9   weekly_new_tests_average                            416 non-null    float64\n 10  new_tests_yesterday                                 416 non-null    float64\n 11  positive_rate                                       416 non-null    float64\n 12  total_vaccinations                                  416 non-null    float64\n 13  total_vaccinations_yesterday                        416 non-null    float64\n 14  people_vaccinated                                   416 non-null    float64\n 15  people_vaccinated_yesterday                         416 non-null    float64\n 16  people_fully_vaccinated                             416 non-null    float64\n 17  people_fully_vaccinated_yesterday                   416 non-null    float64\n 18  stringency_index                                    416 non-null    float64\n 19  driving                                             416 non-null    float64\n 20  transit                                             416 non-null    float64\n 21  walking                                             416 non-null    float64\n 22  retail_and_recreation_percent_change_from_baseline  416 non-null    float64\n 23  grocery_and_pharmacy_percent_change_from_baseline   416 non-null    float64\n 24  parks_percent_change_from_baseline                  416 non-null    float64\n 25  transit_stations_percent_change_from_baseline       416 non-null    float64\n 26  workplaces_percent_change_from_baseline             416 non-null    float64\n 27  residential_percent_change_from_baseline            416 non-null    float64\ndtypes: float64(27), object(1)\nmemory usage: 94.2+ KB\n"
     ]
    }
   ],
   "source": [
    "mega_data_2.info()"
   ]
  },
  {
   "cell_type": "code",
   "execution_count": 310,
   "metadata": {},
   "outputs": [
    {
     "output_type": "stream",
     "name": "stdout",
     "text": [
      "<class 'pandas.core.frame.DataFrame'>\nDatetimeIndex: 416 entries, 2020-03-01 to 2021-04-20\nData columns (total 28 columns):\n #   Column                                              Non-Null Count  Dtype  \n---  ------                                              --------------  -----  \n 0   date                                                416 non-null    object \n 1   total_cases                                         416 non-null    float64\n 2   new_cases                                           416 non-null    float64\n 3   weekly_new_cases_average                            416 non-null    float64\n 4   new_cases_yesterday                                 416 non-null    float64\n 5   new_deaths                                          416 non-null    float64\n 6   weeky_new_deaths_average                            416 non-null    float64\n 7   new_deaths_yesterday                                416 non-null    float64\n 8   new_tests                                           416 non-null    float64\n 9   weekly_new_tests_average                            416 non-null    float64\n 10  new_tests_yesterday                                 416 non-null    float64\n 11  positive_rate                                       416 non-null    float64\n 12  total_vaccinations                                  416 non-null    float64\n 13  total_vaccinations_yesterday                        416 non-null    float64\n 14  people_vaccinated                                   416 non-null    float64\n 15  people_vaccinated_yesterday                         416 non-null    float64\n 16  people_fully_vaccinated                             416 non-null    float64\n 17  people_fully_vaccinated_yesterday                   416 non-null    float64\n 18  stringency_index                                    416 non-null    float64\n 19  driving                                             416 non-null    float64\n 20  transit                                             416 non-null    float64\n 21  walking                                             416 non-null    float64\n 22  retail_and_recreation_percent_change_from_baseline  416 non-null    float64\n 23  grocery_and_pharmacy_percent_change_from_baseline   416 non-null    float64\n 24  parks_percent_change_from_baseline                  416 non-null    float64\n 25  transit_stations_percent_change_from_baseline       416 non-null    float64\n 26  workplaces_percent_change_from_baseline             416 non-null    float64\n 27  residential_percent_change_from_baseline            416 non-null    float64\ndtypes: float64(27), object(1)\nmemory usage: 94.2+ KB\n"
     ]
    }
   ],
   "source": [
    "mega_data_2.info()"
   ]
  },
  {
   "cell_type": "code",
   "execution_count": 311,
   "metadata": {},
   "outputs": [],
   "source": [
    "mega_data_2.to_csv('../data/data_new.csv')"
   ]
  },
  {
   "cell_type": "code",
   "execution_count": null,
   "metadata": {},
   "outputs": [],
   "source": []
  }
 ]
}