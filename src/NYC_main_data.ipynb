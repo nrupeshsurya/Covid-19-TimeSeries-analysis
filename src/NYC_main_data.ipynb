{
 "metadata": {
  "language_info": {
   "codemirror_mode": {
    "name": "ipython",
    "version": 3
   },
   "file_extension": ".py",
   "mimetype": "text/x-python",
   "name": "python",
   "nbconvert_exporter": "python",
   "pygments_lexer": "ipython3",
   "version": "3.8.5"
  },
  "orig_nbformat": 2,
  "kernelspec": {
   "name": "python3",
   "display_name": "Python 3.8.5 64-bit ('Env': venv)",
   "metadata": {
    "interpreter": {
     "hash": "4d3ed95284c33d964896989105016484160e7e48ea4141e346add510b235b1b0"
    }
   }
  }
 },
 "nbformat": 4,
 "nbformat_minor": 2,
 "cells": [
  {
   "cell_type": "code",
   "execution_count": 1,
   "metadata": {},
   "outputs": [],
   "source": [
    "import pandas as pd"
   ]
  },
  {
   "cell_type": "code",
   "execution_count": 2,
   "metadata": {},
   "outputs": [],
   "source": [
    "cases = pd.read_csv('../data/cases-by-day.csv')\n",
    "deaths = pd.read_csv('../data/deaths-by-day.csv')\n",
    "hosp = pd.read_csv('../data/hosp-by-day.csv')\n",
    "tests = pd.read_csv('../data/tests.csv')\n",
    "cases = cases[3:]\n",
    "hosp = hosp[3:]\n",
    "deaths = deaths[3:]"
   ]
  },
  {
   "cell_type": "code",
   "execution_count": 3,
   "metadata": {},
   "outputs": [],
   "source": [
    "cases['date_of_interest'] = pd.to_datetime(cases['date_of_interest'])\n",
    "deaths['date_of_interest'] = pd.to_datetime(deaths['date_of_interest'])\n",
    "hosp['date_of_interest'] = pd.to_datetime(hosp['date_of_interest'])\n",
    "tests['date_of_interest'] = pd.to_datetime(tests['DATE'])"
   ]
  },
  {
   "cell_type": "code",
   "execution_count": 4,
   "metadata": {},
   "outputs": [
    {
     "output_type": "execute_result",
     "data": {
      "text/plain": [
       "  date_of_interest  CASE_COUNT  PROBABLE_CASE_COUNT  CASE_COUNT_7DAY_AVG  \\\n",
       "3       2020-03-03           1                    0                    0   \n",
       "4       2020-03-04           5                    0                    0   \n",
       "5       2020-03-05           3                    0                    0   \n",
       "6       2020-03-06           8                    0                    3   \n",
       "7       2020-03-07           7                    0                    3   \n",
       "\n",
       "   ALL_CASE_COUNT_7DAY_AVG  BX_CASE_COUNT  BX_PROBABLE_CASE_COUNT  \\\n",
       "3                        0              0                       0   \n",
       "4                        0              0                       0   \n",
       "5                        0              0                       0   \n",
       "6                        3              2                       0   \n",
       "7                        3              0                       0   \n",
       "\n",
       "   BX_CASE_COUNT_7DAY_AVG  BX_ALL_CASE_COUNT_7DAY_AVG  BK_CASE_COUNT  ...  \\\n",
       "3                       0                           0              0  ...   \n",
       "4                       0                           0              1  ...   \n",
       "5                       0                           0              3  ...   \n",
       "6                       0                           0              1  ...   \n",
       "7                       0                           0              2  ...   \n",
       "\n",
       "   MN_ALL_CASE_COUNT_7DAY_AVG  QN_CASE_COUNT  QN_PROBABLE_CASE_COUNT  \\\n",
       "3                           0              1                       0   \n",
       "4                           0              2                       0   \n",
       "5                           0              0                       0   \n",
       "6                           1              1                       0   \n",
       "7                           1              3                       0   \n",
       "\n",
       "   QN_CASE_COUNT_7DAY_AVG  QN_ALL_CASE_COUNT_7DAY_AVG  SI_CASE_COUNT  \\\n",
       "3                       0                           0              0   \n",
       "4                       0                           0              0   \n",
       "5                       0                           0              0   \n",
       "6                       1                           1              1   \n",
       "7                       1                           1              1   \n",
       "\n",
       "   SI_PROBABLE_CASE_COUNT  SI_CASE_COUNT_7DAY_AVG  SI_ALL_CASE_COUNT_7DAY_AVG  \\\n",
       "3                       0                       0                           0   \n",
       "4                       0                       0                           0   \n",
       "5                       0                       0                           0   \n",
       "6                       0                       0                           0   \n",
       "7                       0                       0                           0   \n",
       "\n",
       "   INCOMPLETE  \n",
       "3           0  \n",
       "4           0  \n",
       "5           0  \n",
       "6           0  \n",
       "7           0  \n",
       "\n",
       "[5 rows x 26 columns]"
      ],
      "text/html": "<div>\n<style scoped>\n    .dataframe tbody tr th:only-of-type {\n        vertical-align: middle;\n    }\n\n    .dataframe tbody tr th {\n        vertical-align: top;\n    }\n\n    .dataframe thead th {\n        text-align: right;\n    }\n</style>\n<table border=\"1\" class=\"dataframe\">\n  <thead>\n    <tr style=\"text-align: right;\">\n      <th></th>\n      <th>date_of_interest</th>\n      <th>CASE_COUNT</th>\n      <th>PROBABLE_CASE_COUNT</th>\n      <th>CASE_COUNT_7DAY_AVG</th>\n      <th>ALL_CASE_COUNT_7DAY_AVG</th>\n      <th>BX_CASE_COUNT</th>\n      <th>BX_PROBABLE_CASE_COUNT</th>\n      <th>BX_CASE_COUNT_7DAY_AVG</th>\n      <th>BX_ALL_CASE_COUNT_7DAY_AVG</th>\n      <th>BK_CASE_COUNT</th>\n      <th>...</th>\n      <th>MN_ALL_CASE_COUNT_7DAY_AVG</th>\n      <th>QN_CASE_COUNT</th>\n      <th>QN_PROBABLE_CASE_COUNT</th>\n      <th>QN_CASE_COUNT_7DAY_AVG</th>\n      <th>QN_ALL_CASE_COUNT_7DAY_AVG</th>\n      <th>SI_CASE_COUNT</th>\n      <th>SI_PROBABLE_CASE_COUNT</th>\n      <th>SI_CASE_COUNT_7DAY_AVG</th>\n      <th>SI_ALL_CASE_COUNT_7DAY_AVG</th>\n      <th>INCOMPLETE</th>\n    </tr>\n  </thead>\n  <tbody>\n    <tr>\n      <th>3</th>\n      <td>2020-03-03</td>\n      <td>1</td>\n      <td>0</td>\n      <td>0</td>\n      <td>0</td>\n      <td>0</td>\n      <td>0</td>\n      <td>0</td>\n      <td>0</td>\n      <td>0</td>\n      <td>...</td>\n      <td>0</td>\n      <td>1</td>\n      <td>0</td>\n      <td>0</td>\n      <td>0</td>\n      <td>0</td>\n      <td>0</td>\n      <td>0</td>\n      <td>0</td>\n      <td>0</td>\n    </tr>\n    <tr>\n      <th>4</th>\n      <td>2020-03-04</td>\n      <td>5</td>\n      <td>0</td>\n      <td>0</td>\n      <td>0</td>\n      <td>0</td>\n      <td>0</td>\n      <td>0</td>\n      <td>0</td>\n      <td>1</td>\n      <td>...</td>\n      <td>0</td>\n      <td>2</td>\n      <td>0</td>\n      <td>0</td>\n      <td>0</td>\n      <td>0</td>\n      <td>0</td>\n      <td>0</td>\n      <td>0</td>\n      <td>0</td>\n    </tr>\n    <tr>\n      <th>5</th>\n      <td>2020-03-05</td>\n      <td>3</td>\n      <td>0</td>\n      <td>0</td>\n      <td>0</td>\n      <td>0</td>\n      <td>0</td>\n      <td>0</td>\n      <td>0</td>\n      <td>3</td>\n      <td>...</td>\n      <td>0</td>\n      <td>0</td>\n      <td>0</td>\n      <td>0</td>\n      <td>0</td>\n      <td>0</td>\n      <td>0</td>\n      <td>0</td>\n      <td>0</td>\n      <td>0</td>\n    </tr>\n    <tr>\n      <th>6</th>\n      <td>2020-03-06</td>\n      <td>8</td>\n      <td>0</td>\n      <td>3</td>\n      <td>3</td>\n      <td>2</td>\n      <td>0</td>\n      <td>0</td>\n      <td>0</td>\n      <td>1</td>\n      <td>...</td>\n      <td>1</td>\n      <td>1</td>\n      <td>0</td>\n      <td>1</td>\n      <td>1</td>\n      <td>1</td>\n      <td>0</td>\n      <td>0</td>\n      <td>0</td>\n      <td>0</td>\n    </tr>\n    <tr>\n      <th>7</th>\n      <td>2020-03-07</td>\n      <td>7</td>\n      <td>0</td>\n      <td>3</td>\n      <td>3</td>\n      <td>0</td>\n      <td>0</td>\n      <td>0</td>\n      <td>0</td>\n      <td>2</td>\n      <td>...</td>\n      <td>1</td>\n      <td>3</td>\n      <td>0</td>\n      <td>1</td>\n      <td>1</td>\n      <td>1</td>\n      <td>0</td>\n      <td>0</td>\n      <td>0</td>\n      <td>0</td>\n    </tr>\n  </tbody>\n</table>\n<p>5 rows × 26 columns</p>\n</div>"
     },
     "metadata": {},
     "execution_count": 4
    }
   ],
   "source": [
    "cases.head()"
   ]
  },
  {
   "cell_type": "code",
   "execution_count": 5,
   "metadata": {},
   "outputs": [],
   "source": [
    "cases.set_index(\"date_of_interest\",inplace=True)\n",
    "deaths.set_index(\"date_of_interest\",inplace=True)\n",
    "hosp.set_index(\"date_of_interest\",inplace=True)\n",
    "tests.set_index(\"date_of_interest\",inplace=True)"
   ]
  },
  {
   "cell_type": "code",
   "execution_count": 6,
   "metadata": {},
   "outputs": [],
   "source": [
    "google_mobility_2020 = pd.read_csv('../data/2020_US_Region_Mobility_Report.csv')\n",
    "google_mobility_2021 = pd.read_csv('../data/2021_US_Region_Mobility_Report.csv')\n",
    "google_mobility_2020.drop(['country_region_code','country_region','sub_region_1','sub_region_2','metro_area','iso_3166_2_code','census_fips_code'],axis=1,inplace=True)\n",
    "google_mobility_2021.drop(['country_region_code','country_region','sub_region_1','sub_region_2','metro_area','iso_3166_2_code','census_fips_code'],axis=1,inplace=True)"
   ]
  },
  {
   "cell_type": "code",
   "execution_count": 7,
   "metadata": {},
   "outputs": [],
   "source": [
    "region_list = ['ChIJOwE7_GTtwokRFq0uOwLSE9g','ChIJgav5pFbxwokRno6Tc5x2GL8','ChIJOwE7_GTtwokRs75rhW4_I6M',\n",
    "'ChIJBUEf6ovgwokRwlazSIxIpsk',\n",
    "'ChIJOwE7_GTtwokR1V_vES61lRI']"
   ]
  },
  {
   "cell_type": "code",
   "execution_count": 8,
   "metadata": {},
   "outputs": [
    {
     "output_type": "stream",
     "name": "stderr",
     "text": [
      "<ipython-input-8-169d2b2e3770>:7: SettingWithCopyWarning: \nA value is trying to be set on a copy of a slice from a DataFrame.\nTry using .loc[row_indexer,col_indexer] = value instead\n\nSee the caveats in the documentation: https://pandas.pydata.org/pandas-docs/stable/user_guide/indexing.html#returning-a-view-versus-a-copy\n  df_t2['date'] = pd.to_datetime(df_t2['date'])\n/home/flamealchemist/projects/NYC/Env/lib/python3.8/site-packages/pandas/core/frame.py:4308: SettingWithCopyWarning: \nA value is trying to be set on a copy of a slice from a DataFrame\n\nSee the caveats in the documentation: https://pandas.pydata.org/pandas-docs/stable/user_guide/indexing.html#returning-a-view-versus-a-copy\n  return super().drop(\n"
     ]
    }
   ],
   "source": [
    "df_list = []\n",
    "for i in region_list:\n",
    "    df_t1 = google_mobility_2020.loc[google_mobility_2020['place_id']==i]\n",
    "    df_t2 = google_mobility_2021.loc[google_mobility_2021['place_id']==i]\n",
    "    df_t1 = df_t1[17:]\n",
    "    df_t1['date'] = pd.to_datetime(df_t1['date'])\n",
    "    df_t2['date'] = pd.to_datetime(df_t2['date'])\n",
    "    df_t1.drop(['place_id'],inplace=True,axis=1)\n",
    "    df_t2.drop(['place_id'],inplace=True,axis=1)\n",
    "    df_t1.set_index('date',inplace = True)\n",
    "    df_t2.set_index('date', inplace = True)\n",
    "    df_t = pd.concat([df_t1,df_t2],axis=0)\n",
    "    df_list.append(df_t)\n",
    "    # print(df_t.loc[df_t['date']=='2020-03-03'])\n"
   ]
  },
  {
   "cell_type": "code",
   "execution_count": 9,
   "metadata": {},
   "outputs": [],
   "source": [
    "mobility_data_nyc_google = pd.concat(df_list).groupby(level=0).mean()"
   ]
  },
  {
   "cell_type": "code",
   "execution_count": 10,
   "metadata": {},
   "outputs": [],
   "source": [
    "cases = cases[:410]\n",
    "hosp = hosp[:410]\n",
    "deaths = deaths[:410]\n",
    "tests = tests[:410]"
   ]
  },
  {
   "cell_type": "code",
   "execution_count": 11,
   "metadata": {},
   "outputs": [
    {
     "output_type": "stream",
     "name": "stderr",
     "text": [
      "/home/flamealchemist/projects/NYC/Env/lib/python3.8/site-packages/IPython/core/interactiveshell.py:3165: DtypeWarning: Columns (3) have mixed types.Specify dtype option on import or set low_memory=False.\n  has_raised = await self.run_ast_nodes(code_ast.body, cell_name,\n"
     ]
    }
   ],
   "source": [
    "apple_mobility_data = pd.read_csv('../data/applemobilitytrends-2021-04-20.csv')"
   ]
  },
  {
   "cell_type": "code",
   "execution_count": 12,
   "metadata": {},
   "outputs": [
    {
     "output_type": "stream",
     "name": "stdout",
     "text": [
      "         geo_type     region transportation_type alternative_name sub-region  \\\n0  country/region    Albania             driving              NaN        NaN   \n1  country/region    Albania             walking              NaN        NaN   \n2  country/region  Argentina             driving              NaN        NaN   \n3  country/region  Argentina             walking              NaN        NaN   \n4  country/region  Australia             driving               AU        NaN   \n\n  country  2020-01-13  2020-01-14  2020-01-15  2020-01-16  ...  2021-04-11  \\\n0     NaN       100.0       95.30      101.43       97.20  ...      181.11   \n1     NaN       100.0      100.68       98.93       98.46  ...      156.97   \n2     NaN       100.0       97.07      102.45      111.21  ...       54.24   \n3     NaN       100.0       95.11      101.37      112.67  ...       43.43   \n4     NaN       100.0      102.98      104.21      108.63  ...      112.85   \n\n   2021-04-12  2021-04-13  2021-04-14  2021-04-15  2021-04-16  2021-04-17  \\\n0      134.52      121.12      113.90      108.87      118.82      137.63   \n1      155.61      128.57      143.03      145.42      143.71      153.22   \n2       67.02       68.35       69.81       71.46       79.26       81.24   \n3       63.50       64.89       67.36       66.05       70.13       68.50   \n4      117.10      120.98      124.67      131.33      128.89      106.49   \n\n   2021-04-18  2021-04-19  2021-04-20  \n0      141.20      116.15      114.33  \n1      140.68      149.68      142.30  \n2       52.83       60.19       63.25  \n3       40.28       56.19       58.81  \n4      106.19      109.87      113.70  \n\n[5 rows x 470 columns]\n"
     ]
    }
   ],
   "source": [
    "print(apple_mobility_data.head())"
   ]
  },
  {
   "cell_type": "code",
   "execution_count": 13,
   "metadata": {},
   "outputs": [],
   "source": [
    "apple_mobility_data_NYC = apple_mobility_data.loc[apple_mobility_data['alternative_name']=='NYC']"
   ]
  },
  {
   "cell_type": "code",
   "execution_count": 14,
   "metadata": {},
   "outputs": [
    {
     "output_type": "stream",
     "name": "stderr",
     "text": [
      "/home/flamealchemist/projects/NYC/Env/lib/python3.8/site-packages/pandas/core/frame.py:4308: SettingWithCopyWarning: \nA value is trying to be set on a copy of a slice from a DataFrame\n\nSee the caveats in the documentation: https://pandas.pydata.org/pandas-docs/stable/user_guide/indexing.html#returning-a-view-versus-a-copy\n  return super().drop(\n"
     ]
    }
   ],
   "source": [
    "apple_mobility_data_NYC.drop(['geo_type','region','alternative_name','sub-region','country','transportation_type'],axis=1,inplace=True)"
   ]
  },
  {
   "cell_type": "code",
   "execution_count": 15,
   "metadata": {},
   "outputs": [],
   "source": [
    "apple_mobility_data_NYC = apple_mobility_data_NYC.transpose()"
   ]
  },
  {
   "cell_type": "code",
   "execution_count": 16,
   "metadata": {},
   "outputs": [],
   "source": [
    "apple_mobility_data_NYC = apple_mobility_data_NYC.rename_axis('Dates').reset_index()"
   ]
  },
  {
   "cell_type": "code",
   "execution_count": 17,
   "metadata": {},
   "outputs": [],
   "source": [
    "apple_mobility_data_NYC.rename(columns = {644:\"driving\",645:\"transit\",646:\"walking\"},inplace = True)"
   ]
  },
  {
   "cell_type": "code",
   "execution_count": 18,
   "metadata": {},
   "outputs": [],
   "source": [
    "apple_mobility_data_NYC['Dates'] = pd.to_datetime(apple_mobility_data_NYC['Dates'])"
   ]
  },
  {
   "cell_type": "code",
   "execution_count": 19,
   "metadata": {},
   "outputs": [],
   "source": [
    "apple_mobility_data_NYC.set_index(\"Dates\",inplace=True)"
   ]
  },
  {
   "cell_type": "code",
   "execution_count": 20,
   "metadata": {},
   "outputs": [
    {
     "output_type": "stream",
     "name": "stdout",
     "text": [
      "            driving  transit  walking\nDates                                \n2020-01-13   100.00   100.00   100.00\n2020-01-14   101.51    92.66    96.09\n2020-01-15   104.51    95.29   105.77\n2020-01-16   108.78    96.42   101.73\n2020-01-17   122.44   107.50   117.09\n"
     ]
    }
   ],
   "source": [
    "print(apple_mobility_data_NYC.head())"
   ]
  },
  {
   "cell_type": "code",
   "execution_count": 21,
   "metadata": {},
   "outputs": [
    {
     "output_type": "stream",
     "name": "stdout",
     "text": [
      "                  CASE_COUNT  PROBABLE_CASE_COUNT  CASE_COUNT_7DAY_AVG  \\\ndate_of_interest                                                         \n2020-03-03                 1                    0                    0   \n2020-03-04                 5                    0                    0   \n2020-03-05                 3                    0                    0   \n2020-03-06                 8                    0                    3   \n2020-03-07                 7                    0                    3   \n\n                  ALL_CASE_COUNT_7DAY_AVG  BX_CASE_COUNT  \\\ndate_of_interest                                           \n2020-03-03                              0              0   \n2020-03-04                              0              0   \n2020-03-05                              0              0   \n2020-03-06                              3              2   \n2020-03-07                              3              0   \n\n                  BX_PROBABLE_CASE_COUNT  BX_CASE_COUNT_7DAY_AVG  \\\ndate_of_interest                                                   \n2020-03-03                             0                       0   \n2020-03-04                             0                       0   \n2020-03-05                             0                       0   \n2020-03-06                             0                       0   \n2020-03-07                             0                       0   \n\n                  BX_ALL_CASE_COUNT_7DAY_AVG  BK_CASE_COUNT  \\\ndate_of_interest                                              \n2020-03-03                                 0              0   \n2020-03-04                                 0              1   \n2020-03-05                                 0              3   \n2020-03-06                                 0              1   \n2020-03-07                                 0              2   \n\n                  BK_PROBABLE_CASE_COUNT  ...  MN_ALL_CASE_COUNT_7DAY_AVG  \\\ndate_of_interest                          ...                               \n2020-03-03                             0  ...                           0   \n2020-03-04                             0  ...                           0   \n2020-03-05                             0  ...                           0   \n2020-03-06                             0  ...                           1   \n2020-03-07                             0  ...                           1   \n\n                  QN_CASE_COUNT  QN_PROBABLE_CASE_COUNT  \\\ndate_of_interest                                          \n2020-03-03                    1                       0   \n2020-03-04                    2                       0   \n2020-03-05                    0                       0   \n2020-03-06                    1                       0   \n2020-03-07                    3                       0   \n\n                  QN_CASE_COUNT_7DAY_AVG  QN_ALL_CASE_COUNT_7DAY_AVG  \\\ndate_of_interest                                                       \n2020-03-03                             0                           0   \n2020-03-04                             0                           0   \n2020-03-05                             0                           0   \n2020-03-06                             1                           1   \n2020-03-07                             1                           1   \n\n                  SI_CASE_COUNT  SI_PROBABLE_CASE_COUNT  \\\ndate_of_interest                                          \n2020-03-03                    0                       0   \n2020-03-04                    0                       0   \n2020-03-05                    0                       0   \n2020-03-06                    1                       0   \n2020-03-07                    1                       0   \n\n                  SI_CASE_COUNT_7DAY_AVG  SI_ALL_CASE_COUNT_7DAY_AVG  \\\ndate_of_interest                                                       \n2020-03-03                             0                           0   \n2020-03-04                             0                           0   \n2020-03-05                             0                           0   \n2020-03-06                             0                           0   \n2020-03-07                             0                           0   \n\n                  INCOMPLETE  \ndate_of_interest              \n2020-03-03                 0  \n2020-03-04                 0  \n2020-03-05                 0  \n2020-03-06                 0  \n2020-03-07                 0  \n\n[5 rows x 25 columns]\n"
     ]
    }
   ],
   "source": [
    "print(cases.head())"
   ]
  },
  {
   "cell_type": "code",
   "execution_count": 22,
   "metadata": {},
   "outputs": [],
   "source": [
    "apple_mobility_data_NYC = apple_mobility_data_NYC.loc['2020-03-03':'2021-04-16']"
   ]
  },
  {
   "cell_type": "code",
   "execution_count": 23,
   "metadata": {},
   "outputs": [
    {
     "output_type": "stream",
     "name": "stdout",
     "text": [
      "<class 'pandas.core.frame.DataFrame'>\nDatetimeIndex: 410 entries, 2020-03-03 to 2021-04-16\nData columns (total 25 columns):\n #   Column                      Non-Null Count  Dtype\n---  ------                      --------------  -----\n 0   CASE_COUNT                  410 non-null    int64\n 1   PROBABLE_CASE_COUNT         410 non-null    int64\n 2   CASE_COUNT_7DAY_AVG         410 non-null    int64\n 3   ALL_CASE_COUNT_7DAY_AVG     410 non-null    int64\n 4   BX_CASE_COUNT               410 non-null    int64\n 5   BX_PROBABLE_CASE_COUNT      410 non-null    int64\n 6   BX_CASE_COUNT_7DAY_AVG      410 non-null    int64\n 7   BX_ALL_CASE_COUNT_7DAY_AVG  410 non-null    int64\n 8   BK_CASE_COUNT               410 non-null    int64\n 9   BK_PROBABLE_CASE_COUNT      410 non-null    int64\n 10  BK_CASE_COUNT_7DAY_AVG      410 non-null    int64\n 11  BK_ALL_CASE_COUNT_7DAY_AVG  410 non-null    int64\n 12  MN_CASE_COUNT               410 non-null    int64\n 13  MN_PROBABLE_CASE_COUNT      410 non-null    int64\n 14  MN_CASE_COUNT_7DAY_AVG      410 non-null    int64\n 15  MN_ALL_CASE_COUNT_7DAY_AVG  410 non-null    int64\n 16  QN_CASE_COUNT               410 non-null    int64\n 17  QN_PROBABLE_CASE_COUNT      410 non-null    int64\n 18  QN_CASE_COUNT_7DAY_AVG      410 non-null    int64\n 19  QN_ALL_CASE_COUNT_7DAY_AVG  410 non-null    int64\n 20  SI_CASE_COUNT               410 non-null    int64\n 21  SI_PROBABLE_CASE_COUNT      410 non-null    int64\n 22  SI_CASE_COUNT_7DAY_AVG      410 non-null    int64\n 23  SI_ALL_CASE_COUNT_7DAY_AVG  410 non-null    int64\n 24  INCOMPLETE                  410 non-null    int64\ndtypes: int64(25)\nmemory usage: 83.3 KB\nNone\n"
     ]
    }
   ],
   "source": [
    "print(cases.info())"
   ]
  },
  {
   "cell_type": "code",
   "execution_count": 24,
   "metadata": {},
   "outputs": [],
   "source": [
    "cases = cases[['CASE_COUNT','PROBABLE_CASE_COUNT','CASE_COUNT_7DAY_AVG','ALL_CASE_COUNT_7DAY_AVG']]"
   ]
  },
  {
   "cell_type": "code",
   "execution_count": 25,
   "metadata": {},
   "outputs": [
    {
     "output_type": "stream",
     "name": "stdout",
     "text": [
      "<class 'pandas.core.frame.DataFrame'>\nDatetimeIndex: 410 entries, 2020-03-03 to 2021-04-16\nData columns (total 25 columns):\n #   Column                       Non-Null Count  Dtype\n---  ------                       --------------  -----\n 0   DEATH_COUNT                  410 non-null    int64\n 1   PROBABLE_DEATH_COUNT         410 non-null    int64\n 2   DEATH_COUNT_7DAY_AVG         410 non-null    int64\n 3   ALL_DEATH_COUNT_7DAY_AVG     410 non-null    int64\n 4   BX_DEATH_COUNT               410 non-null    int64\n 5   BX_PROBABLE_DEATH_COUNT      410 non-null    int64\n 6   BX_DEATH_COUNT_7DAY_AVG      410 non-null    int64\n 7   BX_ALL_DEATH_COUNT_7DAY_AVG  410 non-null    int64\n 8   BK_DEATH_COUNT               410 non-null    int64\n 9   BK_PROBABLE_DEATH_COUNT      410 non-null    int64\n 10  BK_DEATH_COUNT_7DAY_AVG      410 non-null    int64\n 11  BK_ALL_DEATH_COUNT_7DAY_AVG  410 non-null    int64\n 12  MN_DEATH_COUNT               410 non-null    int64\n 13  MN_PROBABLE_DEATH_COUNT      410 non-null    int64\n 14  MN_DEATH_COUNT_7DAY_AVG      410 non-null    int64\n 15  MN_ALL_DEATH_COUNT_7DAY_AVG  410 non-null    int64\n 16  QN_DEATH_COUNT               410 non-null    int64\n 17  QN_PROBABLE_DEATH_COUNT      410 non-null    int64\n 18  QN_DEATH_COUNT_7DAY_AVG      410 non-null    int64\n 19  QN_ALL_DEATH_COUNT_7DAY_AVG  410 non-null    int64\n 20  SI_DEATH_COUNT               410 non-null    int64\n 21  SI_PROBABLE_DEATH_COUNT      410 non-null    int64\n 22  SI_DEATH_COUNT_7DAY_AVG      410 non-null    int64\n 23  SI_ALL_DEATH_COUNT_7DAY_AVG  410 non-null    int64\n 24  INCOMPLETE                   410 non-null    int64\ndtypes: int64(25)\nmemory usage: 83.3 KB\nNone\n"
     ]
    }
   ],
   "source": [
    "print(deaths.info())"
   ]
  },
  {
   "cell_type": "code",
   "execution_count": 26,
   "metadata": {},
   "outputs": [],
   "source": [
    "deaths = deaths[['DEATH_COUNT','PROBABLE_DEATH_COUNT','DEATH_COUNT_7DAY_AVG','ALL_DEATH_COUNT_7DAY_AVG']]"
   ]
  },
  {
   "cell_type": "code",
   "execution_count": 27,
   "metadata": {},
   "outputs": [
    {
     "output_type": "stream",
     "name": "stdout",
     "text": [
      "<class 'pandas.core.frame.DataFrame'>\nDatetimeIndex: 410 entries, 2020-03-03 to 2021-04-16\nData columns (total 13 columns):\n #   Column                          Non-Null Count  Dtype\n---  ------                          --------------  -----\n 0   HOSPITALIZED_COUNT              410 non-null    int64\n 1   HOSP_COUNT_7DAY_AVG             410 non-null    int64\n 2   BX_HOSPITALIZED_COUNT           410 non-null    int64\n 3   BX_HOSPITALIZED_COUNT_7DAY_AVG  410 non-null    int64\n 4   BK_HOSPITALIZED_COUNT           410 non-null    int64\n 5   BK_HOSPITALIZED_COUNT_7DAY_AVG  410 non-null    int64\n 6   MN_HOSPITALIZED_COUNT           410 non-null    int64\n 7   MN_HOSPITALIZED_COUNT_7DAY_AVG  410 non-null    int64\n 8   QN_HOSPITALIZED_COUNT           410 non-null    int64\n 9   QN_HOSPITALIZED_COUNT_7DAY_AVG  410 non-null    int64\n 10  SI_HOSPITALIZED_COUNT           410 non-null    int64\n 11  SI_HOSPITALIZED_COUNT_7DAY_AVG  410 non-null    int64\n 12  INCOMPLETE                      410 non-null    int64\ndtypes: int64(13)\nmemory usage: 44.8 KB\nNone\n"
     ]
    }
   ],
   "source": [
    "print(hosp.info())"
   ]
  },
  {
   "cell_type": "code",
   "execution_count": 28,
   "metadata": {},
   "outputs": [],
   "source": [
    "hosp = hosp[['HOSPITALIZED_COUNT','HOSP_COUNT_7DAY_AVG']]"
   ]
  },
  {
   "cell_type": "code",
   "execution_count": 29,
   "metadata": {},
   "outputs": [
    {
     "output_type": "stream",
     "name": "stdout",
     "text": [
      "<class 'pandas.core.frame.DataFrame'>\nDatetimeIndex: 410 entries, 2020-03-03 to 2021-04-16\nData columns (total 10 columns):\n #   Column                         Non-Null Count  Dtype  \n---  ------                         --------------  -----  \n 0   DATE                           410 non-null    object \n 1   TOTAL_TESTS                    410 non-null    int64  \n 2   POSITIVE_TESTS                 410 non-null    int64  \n 3   PERCENT_POSITIVE               410 non-null    float64\n 4   TOTAL_TESTS_7DAYS_AVG          410 non-null    int64  \n 5   POSITIVE_TESTS_7DAYS_AVG       410 non-null    int64  \n 6   PERCENT_POSITIVE_7DAYS_AVG     410 non-null    float64\n 7   TOTAL_ANTIGEN_TESTS            410 non-null    int64  \n 8   TOTAL_ANTIGEN_TESTS_7DAYS_AVG  410 non-null    int64  \n 9   INCOMPLETE                     410 non-null    int64  \ndtypes: float64(2), int64(7), object(1)\nmemory usage: 35.2+ KB\nNone\n"
     ]
    }
   ],
   "source": [
    "print(tests.info())"
   ]
  },
  {
   "cell_type": "code",
   "execution_count": 30,
   "metadata": {},
   "outputs": [],
   "source": [
    "tests.drop(['DATE','INCOMPLETE'],axis=1,inplace=True)"
   ]
  },
  {
   "cell_type": "code",
   "execution_count": 31,
   "metadata": {},
   "outputs": [
    {
     "output_type": "stream",
     "name": "stdout",
     "text": [
      "<class 'pandas.core.frame.DataFrame'>\nDatetimeIndex: 410 entries, 2020-03-03 to 2021-04-16\nData columns (total 8 columns):\n #   Column                         Non-Null Count  Dtype  \n---  ------                         --------------  -----  \n 0   TOTAL_TESTS                    410 non-null    int64  \n 1   POSITIVE_TESTS                 410 non-null    int64  \n 2   PERCENT_POSITIVE               410 non-null    float64\n 3   TOTAL_TESTS_7DAYS_AVG          410 non-null    int64  \n 4   POSITIVE_TESTS_7DAYS_AVG       410 non-null    int64  \n 5   PERCENT_POSITIVE_7DAYS_AVG     410 non-null    float64\n 6   TOTAL_ANTIGEN_TESTS            410 non-null    int64  \n 7   TOTAL_ANTIGEN_TESTS_7DAYS_AVG  410 non-null    int64  \ndtypes: float64(2), int64(6)\nmemory usage: 28.8 KB\nNone\n"
     ]
    }
   ],
   "source": [
    "print(tests.info())"
   ]
  },
  {
   "cell_type": "code",
   "execution_count": 32,
   "metadata": {},
   "outputs": [],
   "source": [
    "mega_data = pd.concat([cases,deaths,tests,hosp,mobility_data_nyc_google,apple_mobility_data_NYC],axis=1)"
   ]
  },
  {
   "cell_type": "code",
   "execution_count": 33,
   "metadata": {},
   "outputs": [],
   "source": [
    "mega_data.fillna(method = 'ffill',inplace=True)"
   ]
  },
  {
   "cell_type": "code",
   "execution_count": 34,
   "metadata": {},
   "outputs": [
    {
     "output_type": "stream",
     "name": "stdout",
     "text": [
      "<class 'pandas.core.frame.DataFrame'>\nDatetimeIndex: 410 entries, 2020-03-03 to 2021-04-16\nData columns (total 27 columns):\n #   Column                                              Non-Null Count  Dtype  \n---  ------                                              --------------  -----  \n 0   CASE_COUNT                                          410 non-null    int64  \n 1   PROBABLE_CASE_COUNT                                 410 non-null    int64  \n 2   CASE_COUNT_7DAY_AVG                                 410 non-null    int64  \n 3   ALL_CASE_COUNT_7DAY_AVG                             410 non-null    int64  \n 4   DEATH_COUNT                                         410 non-null    int64  \n 5   PROBABLE_DEATH_COUNT                                410 non-null    int64  \n 6   DEATH_COUNT_7DAY_AVG                                410 non-null    int64  \n 7   ALL_DEATH_COUNT_7DAY_AVG                            410 non-null    int64  \n 8   TOTAL_TESTS                                         410 non-null    int64  \n 9   POSITIVE_TESTS                                      410 non-null    int64  \n 10  PERCENT_POSITIVE                                    410 non-null    float64\n 11  TOTAL_TESTS_7DAYS_AVG                               410 non-null    int64  \n 12  POSITIVE_TESTS_7DAYS_AVG                            410 non-null    int64  \n 13  PERCENT_POSITIVE_7DAYS_AVG                          410 non-null    float64\n 14  TOTAL_ANTIGEN_TESTS                                 410 non-null    int64  \n 15  TOTAL_ANTIGEN_TESTS_7DAYS_AVG                       410 non-null    int64  \n 16  HOSPITALIZED_COUNT                                  410 non-null    int64  \n 17  HOSP_COUNT_7DAY_AVG                                 410 non-null    int64  \n 18  retail_and_recreation_percent_change_from_baseline  410 non-null    float64\n 19  grocery_and_pharmacy_percent_change_from_baseline   410 non-null    float64\n 20  parks_percent_change_from_baseline                  410 non-null    float64\n 21  transit_stations_percent_change_from_baseline       410 non-null    float64\n 22  workplaces_percent_change_from_baseline             410 non-null    float64\n 23  residential_percent_change_from_baseline            410 non-null    float64\n 24  driving                                             410 non-null    float64\n 25  transit                                             410 non-null    float64\n 26  walking                                             410 non-null    float64\ndtypes: float64(11), int64(16)\nmemory usage: 89.7 KB\nNone\n"
     ]
    }
   ],
   "source": [
    "print(mega_data.info())"
   ]
  },
  {
   "cell_type": "code",
   "execution_count": 35,
   "metadata": {},
   "outputs": [],
   "source": [
    "mega_data.to_csv('../data/data.csv')"
   ]
  },
  {
   "cell_type": "code",
   "execution_count": null,
   "metadata": {},
   "outputs": [],
   "source": []
  }
 ]
}